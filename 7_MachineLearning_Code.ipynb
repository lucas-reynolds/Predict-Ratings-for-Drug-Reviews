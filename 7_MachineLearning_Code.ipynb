{
 "cells": [
  {
   "cell_type": "markdown",
   "metadata": {},
   "source": [
    "# Machine Learning\n",
    "#### Project Overview\n",
    "The goal of this project is to create a model that predicts whether or not a drug review will have a good rating, based on the review text.\n",
    "\n",
    "#### Machine Learning Goals\n",
    "My goals for this step are to:\n",
    "1. Pre-process features\n",
    "2. Evaluate and select the best model\n",
    "3. Improve and tune the selected model\n",
    "4. Provide insight on feature importance and next steps"
   ]
  },
  {
   "cell_type": "markdown",
   "metadata": {},
   "source": [
    "## 1. Import"
   ]
  },
  {
   "cell_type": "code",
   "execution_count": 1,
   "metadata": {
    "scrolled": true
   },
   "outputs": [],
   "source": [
    "# data manipulation\n",
    "import numpy as np\n",
    "import pandas as pd\n",
    "\n",
    "# visualization\n",
    "import matplotlib.pyplot as plt\n",
    "%matplotlib inline\n",
    "import seaborn as sns\n",
    "sns.set_context('notebook')\n",
    "sns.set_palette('muted')\n",
    "\n",
    "# machine learning\n",
    "from sklearn.dummy import DummyClassifier\n",
    "from sklearn.model_selection import train_test_split, GridSearchCV, cross_val_score\n",
    "from sklearn.naive_bayes import MultinomialNB\n",
    "from sklearn.neighbors import KNeighborsClassifier\n",
    "from sklearn.linear_model import LogisticRegression\n",
    "from sklearn.tree import DecisionTreeClassifier\n",
    "from sklearn.ensemble import RandomForestClassifier\n",
    "from sklearn.metrics import roc_curve, roc_auc_score\n",
    "\n",
    "# data import/export\n",
    "from scipy.sparse import load_npz\n",
    "import pickle"
   ]
  },
  {
   "cell_type": "code",
   "execution_count": 7,
   "metadata": {},
   "outputs": [],
   "source": [
    "# import dataframe\n",
    "reviews_df = pd.read_pickle('drugreviews_df')\n",
    "\n",
    "# import term matrix\n",
    "term_matrix = load_npz('ngram_csr.npz')\n",
    "\n",
    "# convert term matrix to dataframe\n",
    "term_matrix = pd.DataFrame(term_matrix.todense())\n",
    "\n",
    "# import column headers\n",
    "pickle_in = open('list.pickle', 'rb')\n",
    "reviews_columns = pickle.load(pickle_in)\n",
    "\n",
    "# add column headers to term matrix\n",
    "term_matrix.columns = reviews_columns"
   ]
  },
  {
   "cell_type": "markdown",
   "metadata": {},
   "source": [
    "## 2. Pre-Processing\n",
    "Currently, ratings data is still on a scale of 1 to 10. Since our objective is to create a model that can predict a good rating, we'll create a binary rating scale.\n",
    "\n",
    "During EDA I read through several reviews for each rating and found reviews with ratings 8 and above tended to be good reviews. So we'll replace ratings below 8 with 0 and ratings 8 and above with 1."
   ]
  },
  {
   "cell_type": "code",
   "execution_count": 3,
   "metadata": {},
   "outputs": [],
   "source": [
    "# convert rating scale to binary; >= 8 is 1, <8 is 0\n",
    "replace_values = {1:0, 2:0, 3:0, 4:0, 5:0, 6:0, 7:0, 8:1, 9:1, 10:1}\n",
    "term_matrix['rating'] = term_matrix.rating.replace(replace_values)"
   ]
  },
  {
   "cell_type": "markdown",
   "metadata": {},
   "source": [
    "We'll also split our data into train/test splits."
   ]
  },
  {
   "cell_type": "code",
   "execution_count": 4,
   "metadata": {},
   "outputs": [],
   "source": [
    "# create arrays for independent features and target\n",
    "X = term_matrix.drop('rating', axis=1).values\n",
    "y = term_matrix['rating'].values\n",
    "\n",
    "# split into train and test sets\n",
    "X_train, X_test, y_train, y_test = train_test_split(X, y, test_size=0.2, random_state=9)"
   ]
  },
  {
   "cell_type": "markdown",
   "metadata": {},
   "source": [
    "## 3. Model Selection"
   ]
  },
  {
   "cell_type": "markdown",
   "metadata": {},
   "source": [
    "### 3.1 Dummy Classifier\n",
    "I'm going to use a dummy classifier for comparison."
   ]
  },
  {
   "cell_type": "code",
   "execution_count": 5,
   "metadata": {},
   "outputs": [
    {
     "data": {
      "image/png": "[encoded data removed]",
      "text/plain": [
       "<Figure size 432x288 with 1 Axes>"
      ]
     },
     "metadata": {
      "needs_background": "light"
     },
     "output_type": "display_data"
    },
    {
     "name": "stdout",
     "output_type": "stream",
     "text": [
      "Dummy Model AUC Score: 0.50\n"
     ]
    }
   ],
   "source": [
    "# fit and evaluate dummy classifier\n",
    "dummy_model = DummyClassifier(strategy='most_frequent', random_state=123)\n",
    "\n",
    "dummy_model.fit(X_train, y_train)\n",
    "\n",
    "y_pred_prob = dummy_model.predict_proba(X_test)[:,1]\n",
    "\n",
    "fpr, tpr, threshold = roc_curve(y_test, y_pred_prob)\n",
    "\n",
    "plt.plot([0,1], [0,1], linestyle='--')\n",
    "plt.plot(fpr, tpr)\n",
    "plt.xlabel('False Positive Rate')\n",
    "plt.ylabel('True Positive Rate')\n",
    "plt.title('Dummy Model ROC Curve')\n",
    "plt.show()\n",
    "\n",
    "auc_score = roc_auc_score(y_test, y_pred_prob)\n",
    "\n",
    "print(f'Dummy Model AUC Score: {auc_score:.2f}')"
   ]
  },
  {
   "cell_type": "markdown",
   "metadata": {},
   "source": [
    "The dummy classifier had an AUC score of 0.50 and the linear ROC curve you'd expect."
   ]
  },
  {
   "cell_type": "markdown",
   "metadata": {},
   "source": [
    "### 3.2 Possible Models\n",
    "There are several classification algorithms that could be used for our model. I want to see how Naive Bayes, K-Nearest Neighbor, Logistic Regression, Decision Tree, and Random Forest perform. I assume Random Forest will have the best performance being an ensemble method."
   ]
  },
  {
   "cell_type": "code",
   "execution_count": 6,
   "metadata": {},
   "outputs": [],
   "source": [
    "# instantiate classifiers\n",
    "classifiers = {'Naive Bayes': MultinomialNB(),\n",
    "               'K-Nearest Neighbor': KNeighborsClassifier(),\n",
    "               'Logistic Regression': LogisticRegression(),\n",
    "               'Decision Tree': DecisionTreeClassifier(random_state=123),\n",
    "               'Random Forest': RandomForestClassifier(random_state=123)}\n",
    "\n",
    "# create a dataframe to store metrics\n",
    "metrics_df = pd.DataFrame(columns=['classifiers', 'fpr', 'tpr', 'auc'])\n",
    "\n",
    "# train models and record metrics\n",
    "for cls in classifiers:\n",
    "        model = classifiers[cls].fit(X_train, y_train)\n",
    "        y_pred_prob = model.predict_proba(X_test)[:,1]\n",
    "        \n",
    "        fpr, tpr, threshold = roc_curve(y_test, y_pred_prob)\n",
    "        auc = roc_auc_score(y_test, y_pred_prob)\n",
    "        \n",
    "        metrics_df = metrics_df.append({'classifiers':cls,\n",
    "                                        'fpr': fpr,\n",
    "                                        'tpr': tpr,\n",
    "                                        'auc': auc}, ignore_index=True)\n",
    "        \n",
    "# set classifier names as index\n",
    "metrics_df.set_index('classifiers', inplace=True)"
   ]
  },
  {
   "cell_type": "code",
   "execution_count": 8,
   "metadata": {},
   "outputs": [
    {
     "data": {
      "image/png": "[encoded data removed]",
      "text/plain": [
       "<Figure size 432x288 with 1 Axes>"
      ]
     },
     "metadata": {
      "needs_background": "light"
     },
     "output_type": "display_data"
    }
   ],
   "source": [
    "for i in metrics_df.index:\n",
    "    plt.plot(metrics_df.loc[i]['fpr'],\n",
    "             metrics_df.loc[i]['tpr'],\n",
    "             label=f'{i}')\n",
    "    \n",
    "plt.plot([0,1], [0,1], linestyle='--', color='black')\n",
    "plt.xlabel('False Positive Rate')\n",
    "plt.ylabel('True Positive Rate')\n",
    "plt.legend()\n",
    "plt.title('ROC Curve Analysis')\n",
    "plt.show()"
   ]
  },
  {
   "cell_type": "code",
   "execution_count": 9,
   "metadata": {},
   "outputs": [
    {
     "name": "stdout",
     "output_type": "stream",
     "text": [
      "AUC Scores\n",
      "  Decision Tree: 0.7940\n",
      "  K-Nearest Neighbor: 0.7237\n",
      "  Logistic Regression: 0.7588\n",
      "  Naive Bayes: 0.7334\n",
      "  Random Forest: 0.9248\n"
     ]
    }
   ],
   "source": [
    "# print AUC scores\n",
    "print('AUC Scores')\n",
    "\n",
    "for i in metrics_df.index.sort_values(''):\n",
    "    print(f\"  {i}: {metrics_df.loc[i]['auc']:.4f}\")"
   ]
  },
  {
   "cell_type": "markdown",
   "metadata": {},
   "source": [
    "## 4. Model Tuning\n",
    "The Random Forest Classifier performed best and achieved an AUC score of 0.92 even with default settings. Let's see if some hyperparameter tuning can improve any better results"
   ]
  },
  {
   "cell_type": "code",
   "execution_count": 167,
   "metadata": {},
   "outputs": [
    {
     "name": "stdout",
     "output_type": "stream",
     "text": [
      "0.8223532834978403\n",
      "{'max_depth': 80, 'n_estimators': 300}\n"
     ]
    }
   ],
   "source": [
    "# create dictionary of parameterss to evaluate\n",
    "params = {'n_estimators': [150, 200, 250, 300],\n",
    "          'max_depth': [40, 60, 80, 100]}\n",
    "\n",
    "# instantiate and fit GridSearchCV\n",
    "grid_search = GridSearchCV(estimator=r_forest,\n",
    "                           param_grid=params)\n",
    "\n",
    "grid_search.fit(X_train, y_train)\n",
    "\n",
    "# print best score and parameters\n",
    "print(grid_search.best_score_)\n",
    "print(grid_search.best_params_)"
   ]
  },
  {
   "cell_type": "code",
   "execution_count": 10,
   "metadata": {},
   "outputs": [
    {
     "name": "stdout",
     "output_type": "stream",
     "text": [
      "AUC for each fold: [0.92945266 0.92456645 0.92926356 0.92874972 0.92746518]\n",
      "Mean AUC: 0.9278995153465189\n"
     ]
    }
   ],
   "source": [
    "# re-run random forest with best parameters\n",
    "r_forest = RandomForestClassifier(n_estimators=300,\n",
    "                                  max_depth=80,\n",
    "                                  n_jobs=1, \n",
    "                                  random_state=123)\n",
    "cv_results = cross_val_score(r_forest, \n",
    "                             X, y, \n",
    "                             scoring='roc_auc',\n",
    "                             cv=5)\n",
    "\n",
    "print(f'AUC for each fold: {cv_results}')\n",
    "print(f'Mean AUC: {np.mean(cv_results)}')"
   ]
  },
  {
   "cell_type": "markdown",
   "metadata": {},
   "source": [
    "## 5. Feature Importance"
   ]
  },
  {
   "cell_type": "code",
   "execution_count": 181,
   "metadata": {},
   "outputs": [
    {
     "data": {
      "text/html": [
       "<div>\n",
       "<style scoped>\n",
       "    .dataframe tbody tr th:only-of-type {\n",
       "        vertical-align: middle;\n",
       "    }\n",
       "\n",
       "    .dataframe tbody tr th {\n",
       "        vertical-align: top;\n",
       "    }\n",
       "\n",
       "    .dataframe thead th {\n",
       "        text-align: right;\n",
       "    }\n",
       "</style>\n",
       "<table border=\"1\" class=\"dataframe\">\n",
       "  <thead>\n",
       "    <tr style=\"text-align: right;\">\n",
       "      <th></th>\n",
       "      <th>importance</th>\n",
       "    </tr>\n",
       "  </thead>\n",
       "  <tbody>\n",
       "    <tr>\n",
       "      <th>year</th>\n",
       "      <td>0.018025</td>\n",
       "    </tr>\n",
       "    <tr>\n",
       "      <th>take</th>\n",
       "      <td>0.017617</td>\n",
       "    </tr>\n",
       "    <tr>\n",
       "      <th>day</th>\n",
       "      <td>0.016722</td>\n",
       "    </tr>\n",
       "    <tr>\n",
       "      <th>work</th>\n",
       "      <td>0.015199</td>\n",
       "    </tr>\n",
       "    <tr>\n",
       "      <th>life</th>\n",
       "      <td>0.014344</td>\n",
       "    </tr>\n",
       "    <tr>\n",
       "      <th>...</th>\n",
       "      <td>...</td>\n",
       "    </tr>\n",
       "    <tr>\n",
       "      <th>alway</th>\n",
       "      <td>0.004050</td>\n",
       "    </tr>\n",
       "    <tr>\n",
       "      <th>final</th>\n",
       "      <td>0.004044</td>\n",
       "    </tr>\n",
       "    <tr>\n",
       "      <th>around</th>\n",
       "      <td>0.003972</td>\n",
       "    </tr>\n",
       "    <tr>\n",
       "      <th>old</th>\n",
       "      <td>0.003894</td>\n",
       "    </tr>\n",
       "    <tr>\n",
       "      <th>spot</th>\n",
       "      <td>0.003778</td>\n",
       "    </tr>\n",
       "  </tbody>\n",
       "</table>\n",
       "<p>137 rows × 1 columns</p>\n",
       "</div>"
      ],
      "text/plain": [
       "        importance\n",
       "year      0.018025\n",
       "take      0.017617\n",
       "day       0.016722\n",
       "work      0.015199\n",
       "life      0.014344\n",
       "...            ...\n",
       "alway     0.004050\n",
       "final     0.004044\n",
       "around    0.003972\n",
       "old       0.003894\n",
       "spot      0.003778\n",
       "\n",
       "[137 rows x 1 columns]"
      ]
     },
     "execution_count": 181,
     "metadata": {},
     "output_type": "execute_result"
    }
   ],
   "source": [
    "# fit model\n",
    "r_forest.fit(X_train, y_train)\n",
    "\n",
    "# create dataframe with terms and feature importance\n",
    "feature_importances = pd.DataFrame(r_forest.feature_importances_,\n",
    "                                   index=term_matrix.drop('rating', axis=1).columns,\n",
    "                                   columns=['importance']).\\\n",
    "                                   sort_values('importance', ascending=False)\n",
    "\n",
    "# display feature importances\n",
    "feature_importances"
   ]
  },
  {
   "cell_type": "code",
   "execution_count": 177,
   "metadata": {},
   "outputs": [
    {
     "data": {
      "image/png": "[encoded data removed]",
      "text/plain": [
       "<Figure size 432x288 with 1 Axes>"
      ]
     },
     "metadata": {
      "needs_background": "light"
     },
     "output_type": "display_data"
    }
   ],
   "source": [
    "# plot top 20 features\n",
    "sns.barplot(feature_importances.index[:20], feature_importances['importance'][:20])\n",
    "plt.xticks(rotation=60)\n",
    "plt.xlabel('')\n",
    "plt.ylabel('')\n",
    "plt.title('Feature Importance')\n",
    "plt.show()"
   ]
  },
  {
   "cell_type": "markdown",
   "metadata": {},
   "source": [
    "I anticipated more of the most important features would be words typically associated with strong emotions, such as pain, worse, love, and great. These words are in the top feature importances, but a lot of the words are fairly common, such as year, take, day, and month. I want to see what conditions use these words the most."
   ]
  },
  {
   "cell_type": "code",
   "execution_count": 33,
   "metadata": {},
   "outputs": [],
   "source": [
    "# create list of top features to review\n",
    "features = ['year', 'take', 'day']\n",
    "\n",
    "# create dictionary with condition counts for each top feature\n",
    "condition_count_dict = {}\n",
    "for feature in features:\n",
    "    mask = reviews_df['clean_review'].str.contains(feature)\n",
    "    condition_counts = reviews_df[mask]['condition'].\\\n",
    "                       value_counts(normalize=True)[:5]\n",
    "    condition_count_dict[feature] = condition_counts  "
   ]
  },
  {
   "cell_type": "code",
   "execution_count": 34,
   "metadata": {},
   "outputs": [
    {
     "name": "stdout",
     "output_type": "stream",
     "text": [
      "Birth Control    0.218964\n",
      "Depression       0.063595\n",
      "Acne             0.038520\n",
      "Anxiety          0.035455\n",
      "Pain             0.032165\n",
      "Name: condition, dtype: float64\n"
     ]
    }
   ],
   "source": [
    "# print condition counts for \"year\"\n",
    "print(condition_count_dict['year'])"
   ]
  },
  {
   "cell_type": "code",
   "execution_count": 35,
   "metadata": {},
   "outputs": [
    {
     "name": "stdout",
     "output_type": "stream",
     "text": [
      "Birth Control      0.157150\n",
      "Depression         0.064120\n",
      "Anxiety            0.048235\n",
      "Pain               0.039783\n",
      "Bipolar Disorde    0.030184\n",
      "Name: condition, dtype: float64\n"
     ]
    }
   ],
   "source": [
    "# print condition counts for \"take\"\n",
    "print(condition_count_dict['take'])"
   ]
  },
  {
   "cell_type": "code",
   "execution_count": 36,
   "metadata": {
    "scrolled": true
   },
   "outputs": [
    {
     "name": "stdout",
     "output_type": "stream",
     "text": [
      "Birth Control    0.186280\n",
      "Depression       0.054248\n",
      "Anxiety          0.037872\n",
      "Weight Loss      0.032691\n",
      "Pain             0.030651\n",
      "Name: condition, dtype: float64\n"
     ]
    }
   ],
   "source": [
    "# print condition counts for \"day\"\n",
    "print(condition_count_dict['day'])"
   ]
  },
  {
   "cell_type": "markdown",
   "metadata": {},
   "source": [
    "The top features in regards to feature importance appear related to conditions that typically affect hormones and mental health. The drugs for these conditions are also typically taken on a consistent basis, often daily."
   ]
  }
 ],
 "metadata": {
  "kernelspec": {
   "display_name": "Python 3",
   "language": "python",
   "name": "python3"
  },
  "language_info": {
   "codemirror_mode": {
    "name": "ipython",
    "version": 3
   },
   "file_extension": ".py",
   "mimetype": "text/x-python",
   "name": "python",
   "nbconvert_exporter": "python",
   "pygments_lexer": "ipython3",
   "version": "3.7.4"
  }
 },
 "nbformat": 4,
 "nbformat_minor": 4
}
