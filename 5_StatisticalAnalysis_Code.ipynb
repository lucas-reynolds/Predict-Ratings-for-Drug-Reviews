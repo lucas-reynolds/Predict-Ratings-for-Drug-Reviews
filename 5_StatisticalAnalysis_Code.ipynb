{
 "cells": [
  {
   "cell_type": "markdown",
   "metadata": {},
   "source": [
    "# Statistical Analysis\n",
    "#### Project Overview\n",
    "The goal of this project is to create a model that predicts whether or not a drug review will have a good rating, based on the review text.\n",
    "\n",
    "#### Data Overview\n",
    "| Column Name     | Column Description                          | \n",
    "| :---            | :---                                        |\n",
    "| reviewID        | Unique review ID                            |\n",
    "| drugName        | Name of drug being reviewed                 |\n",
    "| condition       | Condition drug was used for                 |\n",
    "| review          | Review text                                 |\n",
    "| rating          | Rating from 1 to 10                         |\n",
    "| date            | Date of review                              |\n",
    "| usefulCount     | Number of times the review was voted useful |\n",
    "| char_count      | Number of characters in the original review |\n",
    "| clean_review    | Cleaned and preprocessed review text        |\n",
    "\n",
    "#### Statistical Analysis Goals\n",
    "My goals for this step are to: \n",
    "1. Explore data distributions and statistics\n",
    "2. Discover statisticlaly significant relationships\n",
    "2. Understand top features for machine learning"
   ]
  },
  {
   "cell_type": "markdown",
   "metadata": {},
   "source": [
    "## Import\n",
    "I imported libraries that will be used along with data from previous steps."
   ]
  },
  {
   "cell_type": "code",
   "execution_count": 75,
   "metadata": {},
   "outputs": [],
   "source": [
    "# import libraries\n",
    "import numpy as np\n",
    "import pandas as pd\n",
    "\n",
    "# statistics\n",
    "from scipy import stats\n",
    "\n",
    "# visualization libraries\n",
    "import matplotlib.pyplot as plt\n",
    "%matplotlib inline\n",
    "import seaborn as sns\n",
    "sns.set_context('notebook')\n",
    "sns.set_palette('muted')\n",
    "\n",
    "# data import/export\n",
    "from scipy.sparse import load_npz\n",
    "import pickle"
   ]
  },
  {
   "cell_type": "code",
   "execution_count": 76,
   "metadata": {},
   "outputs": [],
   "source": [
    "# import datarame\n",
    "reviews_df = pd.read_pickle('drugreviews_df')\n",
    "\n",
    "# import sparse term matrix\n",
    "term_matrix = load_npz('ngram_csr.npz')\n",
    "\n",
    "# convert sparse matrix to dataframe\n",
    "term_matrix = pd.DataFrame(term_matrix.todense())\n",
    "\n",
    "# import column headers for dataframe\n",
    "pickle_in = open('list.pickle', 'rb')\n",
    "reviews_columns = pickle.load(pickle_in)\n",
    "\n",
    "# add column headers back to dataframe\n",
    "term_matrix.columns = reviews_columns"
   ]
  },
  {
   "cell_type": "markdown",
   "metadata": {},
   "source": [
    "## 1. Rating by Review Length"
   ]
  },
  {
   "cell_type": "markdown",
   "metadata": {},
   "source": [
    "### 1a. Visualization\n",
    "I used box plots to see if there a relationship between review length and rating could be seen. I chose to use both character count and word count calculated prior to cleaning and preprocessing the text."
   ]
  },
  {
   "cell_type": "code",
   "execution_count": 77,
   "metadata": {},
   "outputs": [
    {
     "data": {
      "text/html": [
       "<div>\n",
       "<style scoped>\n",
       "    .dataframe tbody tr th:only-of-type {\n",
       "        vertical-align: middle;\n",
       "    }\n",
       "\n",
       "    .dataframe tbody tr th {\n",
       "        vertical-align: top;\n",
       "    }\n",
       "\n",
       "    .dataframe thead th {\n",
       "        text-align: right;\n",
       "    }\n",
       "</style>\n",
       "<table border=\"1\" class=\"dataframe\">\n",
       "  <thead>\n",
       "    <tr style=\"text-align: right;\">\n",
       "      <th></th>\n",
       "      <th>reviewID</th>\n",
       "      <th>drugName</th>\n",
       "      <th>condition</th>\n",
       "      <th>review</th>\n",
       "      <th>rating</th>\n",
       "      <th>date</th>\n",
       "      <th>usefulCount</th>\n",
       "      <th>char_count</th>\n",
       "      <th>clean_review</th>\n",
       "    </tr>\n",
       "  </thead>\n",
       "  <tbody>\n",
       "    <tr>\n",
       "      <th>0</th>\n",
       "      <td>206461</td>\n",
       "      <td>Valsartan</td>\n",
       "      <td>Left Ventricular Dysfunction</td>\n",
       "      <td>\"It has no side effect, I take it in combinati...</td>\n",
       "      <td>9</td>\n",
       "      <td>2012-05-20</td>\n",
       "      <td>27</td>\n",
       "      <td>79</td>\n",
       "      <td>side effect take combin bystol mg fish oil</td>\n",
       "    </tr>\n",
       "    <tr>\n",
       "      <th>1</th>\n",
       "      <td>95260</td>\n",
       "      <td>Guanfacine</td>\n",
       "      <td>ADHD</td>\n",
       "      <td>\"My son is halfway through his fourth week of ...</td>\n",
       "      <td>8</td>\n",
       "      <td>2010-04-27</td>\n",
       "      <td>192</td>\n",
       "      <td>741</td>\n",
       "      <td>son halfway fourth week intuniv becam concern ...</td>\n",
       "    </tr>\n",
       "    <tr>\n",
       "      <th>2</th>\n",
       "      <td>92703</td>\n",
       "      <td>Lybrel</td>\n",
       "      <td>Birth Control</td>\n",
       "      <td>\"I used to take another oral contraceptive, wh...</td>\n",
       "      <td>5</td>\n",
       "      <td>2009-12-14</td>\n",
       "      <td>17</td>\n",
       "      <td>755</td>\n",
       "      <td>use take anoth oral contracept pill cycl happi...</td>\n",
       "    </tr>\n",
       "    <tr>\n",
       "      <th>3</th>\n",
       "      <td>138000</td>\n",
       "      <td>Ortho Evra</td>\n",
       "      <td>Birth Control</td>\n",
       "      <td>\"This is my first time using any form of birth...</td>\n",
       "      <td>8</td>\n",
       "      <td>2015-11-03</td>\n",
       "      <td>10</td>\n",
       "      <td>448</td>\n",
       "      <td>first time use form birth control glad went pa...</td>\n",
       "    </tr>\n",
       "    <tr>\n",
       "      <th>4</th>\n",
       "      <td>35696</td>\n",
       "      <td>Buprenorphine / naloxone</td>\n",
       "      <td>Opiate Dependence</td>\n",
       "      <td>\"Suboxone has completely turned my life around...</td>\n",
       "      <td>9</td>\n",
       "      <td>2016-11-27</td>\n",
       "      <td>37</td>\n",
       "      <td>719</td>\n",
       "      <td>suboxon complet turn life around feel healthie...</td>\n",
       "    </tr>\n",
       "  </tbody>\n",
       "</table>\n",
       "</div>"
      ],
      "text/plain": [
       "   reviewID                  drugName                     condition  \\\n",
       "0    206461                 Valsartan  Left Ventricular Dysfunction   \n",
       "1     95260                Guanfacine                          ADHD   \n",
       "2     92703                    Lybrel                 Birth Control   \n",
       "3    138000                Ortho Evra                 Birth Control   \n",
       "4     35696  Buprenorphine / naloxone             Opiate Dependence   \n",
       "\n",
       "                                              review  rating       date  \\\n",
       "0  \"It has no side effect, I take it in combinati...       9 2012-05-20   \n",
       "1  \"My son is halfway through his fourth week of ...       8 2010-04-27   \n",
       "2  \"I used to take another oral contraceptive, wh...       5 2009-12-14   \n",
       "3  \"This is my first time using any form of birth...       8 2015-11-03   \n",
       "4  \"Suboxone has completely turned my life around...       9 2016-11-27   \n",
       "\n",
       "   usefulCount  char_count                                       clean_review  \n",
       "0           27          79         side effect take combin bystol mg fish oil  \n",
       "1          192         741  son halfway fourth week intuniv becam concern ...  \n",
       "2           17         755  use take anoth oral contracept pill cycl happi...  \n",
       "3           10         448  first time use form birth control glad went pa...  \n",
       "4           37         719  suboxon complet turn life around feel healthie...  "
      ]
     },
     "execution_count": 77,
     "metadata": {},
     "output_type": "execute_result"
    }
   ],
   "source": [
    "reviews_df.head()"
   ]
  },
  {
   "cell_type": "code",
   "execution_count": 78,
   "metadata": {},
   "outputs": [
    {
     "data": {
      "image/png": "[encoded data removed]",
      "text/plain": [
       "<Figure size 432x288 with 1 Axes>"
      ]
     },
     "metadata": {
      "needs_background": "light"
     },
     "output_type": "display_data"
    }
   ],
   "source": [
    "# boxplot of character count vs. rating\n",
    "sns.boxplot(x='rating', y='char_count', data=reviews_df, sym='')\n",
    "plt.title('Rating by Character Count')\n",
    "plt.xlabel('Rating')\n",
    "plt.ylabel('Character Count')\n",
    "plt.ylim(0,1500)\n",
    "plt.show()"
   ]
  },
  {
   "cell_type": "markdown",
   "metadata": {},
   "source": [
    "### 1b. Significant Correlation\n",
    "There wasn't a clear relationship between review length and rating in the boxplots, so I wanted to take a more quantitative approach.\n",
    "\n",
    "My null hypothesis was that there was not a correlation (i.e. correlation coefficient was zero). My alternative hypothesis was that there was a correlation (i.e. correlation coefficient was not zero).\n",
    "\n",
    "An alpha (p-value) of 0.05 was used to determine statistical significance."
   ]
  },
  {
   "cell_type": "markdown",
   "metadata": {},
   "source": [
    "#### Character Count\n",
    "Character count also had a statistically significant correlation, but a very weak one. The correlation coefficient between character count and rating was about 0.021."
   ]
  },
  {
   "cell_type": "code",
   "execution_count": 79,
   "metadata": {},
   "outputs": [
    {
     "name": "stdout",
     "output_type": "stream",
     "text": [
      "Correlation coefficent: 0.0206\n",
      "P-value: 1.139e-16\n"
     ]
    }
   ],
   "source": [
    "# calculate perason correlation coefficient and p-value\n",
    "corr_coeff, p = stats.pearsonr(reviews_df['rating'], reviews_df['char_count'])\n",
    "\n",
    "# print correlation coefficient\n",
    "print(f'Correlation coefficent: {corr_coeff:.4f}')\n",
    "print(f'P-value: {p:.4}')"
   ]
  },
  {
   "cell_type": "markdown",
   "metadata": {},
   "source": [
    "## 2. Rating by Drug Name"
   ]
  },
  {
   "cell_type": "markdown",
   "metadata": {},
   "source": [
    "To minimize outliers or drugs with a small sample size, I filtered out drugs that appeared less than 50 times."
   ]
  },
  {
   "cell_type": "code",
   "execution_count": 80,
   "metadata": {},
   "outputs": [],
   "source": [
    "# only include drugs that have at least 50 reviews\n",
    "drug_names = reviews_df['drugName'].unique()\n",
    "drug_counts = np.array([(i, reviews_df[reviews_df['drugName'] == i]['drugName'].count()) for i in drug_names])\n",
    "drug_names_50 = [i[0] for i in drug_counts if i[1] >= '50']"
   ]
  },
  {
   "cell_type": "markdown",
   "metadata": {},
   "source": [
    "### 2a. T-Test for Statistically Significant Avg. Difference\n",
    "I used a t-test to determine which drugs had a statistically significant effect on average rating.\n",
    "\n",
    "My null hypothesis was that there was no difference between the average rating with and without the chosen drug. My alternative hypothesis was that there was a difference between rating with and without the chosen drug.\n",
    "\n",
    "I used an alpha (p-value) of 0.5 and ran the t-test on each drug that appeared at least 50 times in the data."
   ]
  },
  {
   "cell_type": "code",
   "execution_count": 81,
   "metadata": {},
   "outputs": [],
   "source": [
    "# set alpha for t-test\n",
    "alpha = 0.05\n",
    "\n",
    "# define function for t-test\n",
    "def ttest(data, column, value):\n",
    "    '''Function to run a t-test and return a value with its p-value.'''\n",
    "    has = data[data[column] == value].rating\n",
    "    has_not = data[data[column] != value].rating\n",
    "    t, p = stats.ttest_ind(has, has_not)\n",
    "    return p"
   ]
  },
  {
   "cell_type": "code",
   "execution_count": 82,
   "metadata": {},
   "outputs": [],
   "source": [
    "# perform t-test on ratings with and without each drug\n",
    "pvalue_drugs = [(i, ttest(data, 'drugName', i)) for i in drug_names_50]\n",
    "\n",
    "# return drugs with p-values below alpha and their p-values as an array\n",
    "sig_drugs = [(i[0], float(i[1])) for i in pvalue_drugs if float(i[1]) < alpha]\n",
    "\n",
    "# sort by p-value\n",
    "sig_drugs.sort(key=lambda x:x[1])"
   ]
  },
  {
   "cell_type": "markdown",
   "metadata": {},
   "source": [
    "### 2b. Significant Average Difference in Rating\n",
    "After determining drugs with a significant average difference in rating, I looked at which drugs had the largest average difference."
   ]
  },
  {
   "cell_type": "code",
   "execution_count": 83,
   "metadata": {},
   "outputs": [],
   "source": [
    "def diff_avg(data, column, value):\n",
    "    \"\"\"Return difference of mean ratings with and without each drug.\"\"\"\n",
    "    has = np.mean(data[data[column] == value].rating)\n",
    "    has_not = np.mean(data[data[column] != value].rating)\n",
    "    diff = has - has_not\n",
    "    return diff"
   ]
  },
  {
   "cell_type": "code",
   "execution_count": 100,
   "metadata": {},
   "outputs": [
    {
     "name": "stdout",
     "output_type": "stream",
     "text": [
      "Number of drugs with significant average differences in rating: 237\n"
     ]
    }
   ],
   "source": [
    "# make a list of sig_drugs\n",
    "sig_drugs_list = [i[0] for i in sig_drugs]\n",
    "\n",
    "# avgerage difference of mean rating for each drug\n",
    "diff_avg_drugs = [(i, diff_avg(data, 'drugName', i)) for i in sig_drugs_list]\n",
    "\n",
    "# sort by average difference\n",
    "diff_avg_drugs.sort(key=lambda x:x[1])\n",
    "\n",
    "# print number of drugs with significant avg. differences\n",
    "print(f'Number of drugs with significant average differences in rating: {len(diff_avg_drugs)}')"
   ]
  },
  {
   "cell_type": "code",
   "execution_count": 85,
   "metadata": {},
   "outputs": [
    {
     "data": {
      "image/png": "[encoded data removed]",
      "text/plain": [
       "<Figure size 432x288 with 1 Axes>"
      ]
     },
     "metadata": {
      "needs_background": "light"
     },
     "output_type": "display_data"
    },
    {
     "data": {
      "text/html": [
       "<div>\n",
       "<style scoped>\n",
       "    .dataframe tbody tr th:only-of-type {\n",
       "        vertical-align: middle;\n",
       "    }\n",
       "\n",
       "    .dataframe tbody tr th {\n",
       "        vertical-align: top;\n",
       "    }\n",
       "\n",
       "    .dataframe thead th {\n",
       "        text-align: right;\n",
       "    }\n",
       "</style>\n",
       "<table border=\"1\" class=\"dataframe\">\n",
       "  <thead>\n",
       "    <tr style=\"text-align: right;\">\n",
       "      <th></th>\n",
       "      <th>diff_avg</th>\n",
       "    </tr>\n",
       "  </thead>\n",
       "  <tbody>\n",
       "    <tr>\n",
       "      <th>count</th>\n",
       "      <td>237.000000</td>\n",
       "    </tr>\n",
       "    <tr>\n",
       "      <th>mean</th>\n",
       "      <td>0.159351</td>\n",
       "    </tr>\n",
       "    <tr>\n",
       "      <th>std</th>\n",
       "      <td>2.052787</td>\n",
       "    </tr>\n",
       "    <tr>\n",
       "      <th>min</th>\n",
       "      <td>-4.872392</td>\n",
       "    </tr>\n",
       "    <tr>\n",
       "      <th>25%</th>\n",
       "      <td>-1.410355</td>\n",
       "    </tr>\n",
       "    <tr>\n",
       "      <th>50%</th>\n",
       "      <td>0.883821</td>\n",
       "    </tr>\n",
       "    <tr>\n",
       "      <th>75%</th>\n",
       "      <td>1.860731</td>\n",
       "    </tr>\n",
       "    <tr>\n",
       "      <th>max</th>\n",
       "      <td>3.003022</td>\n",
       "    </tr>\n",
       "  </tbody>\n",
       "</table>\n",
       "</div>"
      ],
      "text/plain": [
       "         diff_avg\n",
       "count  237.000000\n",
       "mean     0.159351\n",
       "std      2.052787\n",
       "min     -4.872392\n",
       "25%     -1.410355\n",
       "50%      0.883821\n",
       "75%      1.860731\n",
       "max      3.003022"
      ]
     },
     "metadata": {},
     "output_type": "display_data"
    }
   ],
   "source": [
    "# create dataframe of significant average rating differences by drug\n",
    "diff_avg_drugs = pd.DataFrame(diff_avg_drugs, columns=['drug_name', 'diff_avg'])\n",
    "\n",
    "# plot distribution of significange average differences\n",
    "sns.distplot(diff_avg_drugs['diff_avg'], kde=False)\n",
    "plt.xlabel('Avg. Difference')\n",
    "plt.title('Distribution of Significant Avg. Differences in Rating')\n",
    "plt.show()\n",
    "\n",
    "# print summary statistics of significant average differences by drug\n",
    "display(diff_avg_drugs.describe())"
   ]
  },
  {
   "cell_type": "code",
   "execution_count": 86,
   "metadata": {},
   "outputs": [
    {
     "data": {
      "text/plain": [
       "'Top 10 sig. average increase in rating by drug: '"
      ]
     },
     "metadata": {},
     "output_type": "display_data"
    },
    {
     "data": {
      "text/html": [
       "<div>\n",
       "<style scoped>\n",
       "    .dataframe tbody tr th:only-of-type {\n",
       "        vertical-align: middle;\n",
       "    }\n",
       "\n",
       "    .dataframe tbody tr th {\n",
       "        vertical-align: top;\n",
       "    }\n",
       "\n",
       "    .dataframe thead th {\n",
       "        text-align: right;\n",
       "    }\n",
       "</style>\n",
       "<table border=\"1\" class=\"dataframe\">\n",
       "  <thead>\n",
       "    <tr style=\"text-align: right;\">\n",
       "      <th></th>\n",
       "      <th>drug_name</th>\n",
       "      <th>diff_avg</th>\n",
       "    </tr>\n",
       "  </thead>\n",
       "  <tbody>\n",
       "    <tr>\n",
       "      <th>236</th>\n",
       "      <td>Privine</td>\n",
       "      <td>3.003022</td>\n",
       "    </tr>\n",
       "    <tr>\n",
       "      <th>235</th>\n",
       "      <td>Zinc oxide</td>\n",
       "      <td>3.003003</td>\n",
       "    </tr>\n",
       "    <tr>\n",
       "      <th>234</th>\n",
       "      <td>Astelin</td>\n",
       "      <td>3.003003</td>\n",
       "    </tr>\n",
       "    <tr>\n",
       "      <th>233</th>\n",
       "      <td>Chlorpheniramine / phenylephrine</td>\n",
       "      <td>3.002966</td>\n",
       "    </tr>\n",
       "    <tr>\n",
       "      <th>232</th>\n",
       "      <td>Acetaminophen / pseudoephedrine</td>\n",
       "      <td>3.002966</td>\n",
       "    </tr>\n",
       "    <tr>\n",
       "      <th>231</th>\n",
       "      <td>Biafine</td>\n",
       "      <td>2.860121</td>\n",
       "    </tr>\n",
       "    <tr>\n",
       "      <th>230</th>\n",
       "      <td>Niravam</td>\n",
       "      <td>2.860121</td>\n",
       "    </tr>\n",
       "    <tr>\n",
       "      <th>229</th>\n",
       "      <td>Avonex Pen</td>\n",
       "      <td>2.836293</td>\n",
       "    </tr>\n",
       "    <tr>\n",
       "      <th>228</th>\n",
       "      <td>Primatene Mist</td>\n",
       "      <td>2.836293</td>\n",
       "    </tr>\n",
       "    <tr>\n",
       "      <th>227</th>\n",
       "      <td>Belladonna / opium</td>\n",
       "      <td>2.836293</td>\n",
       "    </tr>\n",
       "  </tbody>\n",
       "</table>\n",
       "</div>"
      ],
      "text/plain": [
       "                            drug_name  diff_avg\n",
       "236                           Privine  3.003022\n",
       "235                        Zinc oxide  3.003003\n",
       "234                           Astelin  3.003003\n",
       "233  Chlorpheniramine / phenylephrine  3.002966\n",
       "232   Acetaminophen / pseudoephedrine  3.002966\n",
       "231                           Biafine  2.860121\n",
       "230                           Niravam  2.860121\n",
       "229                        Avonex Pen  2.836293\n",
       "228                    Primatene Mist  2.836293\n",
       "227                Belladonna / opium  2.836293"
      ]
     },
     "metadata": {},
     "output_type": "display_data"
    },
    {
     "data": {
      "text/plain": [
       "'10 drugs with largest average decrease in rating:'"
      ]
     },
     "metadata": {},
     "output_type": "display_data"
    },
    {
     "data": {
      "text/html": [
       "<div>\n",
       "<style scoped>\n",
       "    .dataframe tbody tr th:only-of-type {\n",
       "        vertical-align: middle;\n",
       "    }\n",
       "\n",
       "    .dataframe tbody tr th {\n",
       "        vertical-align: top;\n",
       "    }\n",
       "\n",
       "    .dataframe thead th {\n",
       "        text-align: right;\n",
       "    }\n",
       "</style>\n",
       "<table border=\"1\" class=\"dataframe\">\n",
       "  <thead>\n",
       "    <tr style=\"text-align: right;\">\n",
       "      <th></th>\n",
       "      <th>drug_name</th>\n",
       "      <th>diff_avg</th>\n",
       "    </tr>\n",
       "  </thead>\n",
       "  <tbody>\n",
       "    <tr>\n",
       "      <th>0</th>\n",
       "      <td>Systane</td>\n",
       "      <td>-4.872392</td>\n",
       "    </tr>\n",
       "    <tr>\n",
       "      <th>1</th>\n",
       "      <td>Succinylcholine</td>\n",
       "      <td>-4.622379</td>\n",
       "    </tr>\n",
       "    <tr>\n",
       "      <th>2</th>\n",
       "      <td>Trimethoprim</td>\n",
       "      <td>-4.247360</td>\n",
       "    </tr>\n",
       "    <tr>\n",
       "      <th>3</th>\n",
       "      <td>Chloraseptic Sore Throat Spray</td>\n",
       "      <td>-3.997323</td>\n",
       "    </tr>\n",
       "    <tr>\n",
       "      <th>4</th>\n",
       "      <td>Monistat 7</td>\n",
       "      <td>-3.966431</td>\n",
       "    </tr>\n",
       "    <tr>\n",
       "      <th>5</th>\n",
       "      <td>Blisovi 24 Fe</td>\n",
       "      <td>-3.886957</td>\n",
       "    </tr>\n",
       "    <tr>\n",
       "      <th>6</th>\n",
       "      <td>Rhofade</td>\n",
       "      <td>-3.775138</td>\n",
       "    </tr>\n",
       "    <tr>\n",
       "      <th>7</th>\n",
       "      <td>Influenza virus vaccine, live, trivalent</td>\n",
       "      <td>-3.664021</td>\n",
       "    </tr>\n",
       "    <tr>\n",
       "      <th>8</th>\n",
       "      <td>Blisovi Fe 1 / 20</td>\n",
       "      <td>-3.528844</td>\n",
       "    </tr>\n",
       "    <tr>\n",
       "      <th>9</th>\n",
       "      <td>Delsym</td>\n",
       "      <td>-3.511409</td>\n",
       "    </tr>\n",
       "  </tbody>\n",
       "</table>\n",
       "</div>"
      ],
      "text/plain": [
       "                                  drug_name  diff_avg\n",
       "0                                   Systane -4.872392\n",
       "1                           Succinylcholine -4.622379\n",
       "2                              Trimethoprim -4.247360\n",
       "3            Chloraseptic Sore Throat Spray -3.997323\n",
       "4                                Monistat 7 -3.966431\n",
       "5                             Blisovi 24 Fe -3.886957\n",
       "6                                   Rhofade -3.775138\n",
       "7  Influenza virus vaccine, live, trivalent -3.664021\n",
       "8                         Blisovi Fe 1 / 20 -3.528844\n",
       "9                                    Delsym -3.511409"
      ]
     },
     "metadata": {},
     "output_type": "display_data"
    }
   ],
   "source": [
    "# print 10 drugs with the largest sig. average increase in rating\n",
    "top_drugs_sig_diffs = diff_avg_drugs.sort_values('diff_avg', ascending=False)[:10]\n",
    "display('Top 10 sig. average increase in rating by drug: ', top_drugs_sig_diffs)\n",
    "\n",
    "# print 10 drugs with largest average decrease\n",
    "bottom_drugs_sig_diffs = diff_avg_drugs.sort_values('diff_avg', ascending=True)[:10]\n",
    "display('10 drugs with largest average decrease in rating:', bottom_drugs_sig_diffs)"
   ]
  },
  {
   "cell_type": "markdown",
   "metadata": {},
   "source": [
    "## 3. Rating by Condition"
   ]
  },
  {
   "cell_type": "markdown",
   "metadata": {},
   "source": [
    "To help minimize outliers and conditions with a small sample size I filtered out conditions that appeared less than 50 times in the data."
   ]
  },
  {
   "cell_type": "code",
   "execution_count": 87,
   "metadata": {},
   "outputs": [],
   "source": [
    "# only include conditions that have at least 50 reviews\n",
    "condition_names = reviews_df['condition'].unique()\n",
    "condition_counts = np.array([(i, reviews_df[reviews_df['condition'] == i]['condition'].count()) for i in condition_names])\n",
    "condition_names_50 = [i[0] for i in condition_counts if i[1] >= '50']"
   ]
  },
  {
   "cell_type": "markdown",
   "metadata": {},
   "source": [
    "### 3a. T-Test for Statistically Significant Avg. Difference\n",
    "Again, t-test was used to determine which conditions had a statistically significant effect on average difference of rating.\n",
    "\n",
    "My null hypothesis was that there was no difference between the average rating with and without the chosen condition. My alternative hypothesis was that there was a difference between rating with and without the chosen condition.\n",
    "\n",
    "I used an alpha (p-value) of 0.5 and ran the t-test on each condition that appeared at least 50 times in the data."
   ]
  },
  {
   "cell_type": "code",
   "execution_count": 88,
   "metadata": {},
   "outputs": [],
   "source": [
    "# set alpha for t-test\n",
    "alpha = 0.05"
   ]
  },
  {
   "cell_type": "code",
   "execution_count": 89,
   "metadata": {},
   "outputs": [],
   "source": [
    "# perform t-test on ratings with and without each drug\n",
    "pvalue_conditions = [(i, ttest(reviews_df, 'condition', i)) for i in condition_names_50]\n",
    "\n",
    "# only include drugs with p-values below alpha\n",
    "sig_conditions = [(i[0], i[1]) for i in pvalue_conditions if float(i[1]) < alpha]\n",
    "\n",
    "# sort\n",
    "sig_conditions.sort(key=lambda x: x[1])"
   ]
  },
  {
   "cell_type": "markdown",
   "metadata": {},
   "source": [
    "### 3b. Significant Average Difference in Rating\n",
    "Out of the conditions with a statistically significant average difference in rating, I determined which conditions had the largest average difference."
   ]
  },
  {
   "cell_type": "code",
   "execution_count": 90,
   "metadata": {},
   "outputs": [],
   "source": [
    "# make a list of sig_drugs\n",
    "sig_conditions_list = [i[0] for i in sig_conditions]\n",
    "\n",
    "# avgerage difference of mean rating for each drug\n",
    "diff_avg_conditions = [(i, diff_avg(reviews_df, 'condition', i)) for i in sig_conditions_list]\n",
    "\n",
    "# sort by average difference\n",
    "diff_avg_conditions.sort(key=lambda x:x[1])"
   ]
  },
  {
   "cell_type": "code",
   "execution_count": 91,
   "metadata": {},
   "outputs": [
    {
     "data": {
      "image/png": "[encoded data removed]",
      "text/plain": [
       "<Figure size 432x288 with 1 Axes>"
      ]
     },
     "metadata": {
      "needs_background": "light"
     },
     "output_type": "display_data"
    },
    {
     "data": {
      "text/html": [
       "<div>\n",
       "<style scoped>\n",
       "    .dataframe tbody tr th:only-of-type {\n",
       "        vertical-align: middle;\n",
       "    }\n",
       "\n",
       "    .dataframe tbody tr th {\n",
       "        vertical-align: top;\n",
       "    }\n",
       "\n",
       "    .dataframe thead th {\n",
       "        text-align: right;\n",
       "    }\n",
       "</style>\n",
       "<table border=\"1\" class=\"dataframe\">\n",
       "  <thead>\n",
       "    <tr style=\"text-align: right;\">\n",
       "      <th></th>\n",
       "      <th>diff_avg</th>\n",
       "    </tr>\n",
       "  </thead>\n",
       "  <tbody>\n",
       "    <tr>\n",
       "      <th>count</th>\n",
       "      <td>79.000000</td>\n",
       "    </tr>\n",
       "    <tr>\n",
       "      <th>mean</th>\n",
       "      <td>0.532271</td>\n",
       "    </tr>\n",
       "    <tr>\n",
       "      <th>std</th>\n",
       "      <td>1.691831</td>\n",
       "    </tr>\n",
       "    <tr>\n",
       "      <th>min</th>\n",
       "      <td>-3.244538</td>\n",
       "    </tr>\n",
       "    <tr>\n",
       "      <th>25%</th>\n",
       "      <td>-0.816970</td>\n",
       "    </tr>\n",
       "    <tr>\n",
       "      <th>50%</th>\n",
       "      <td>0.810433</td>\n",
       "    </tr>\n",
       "    <tr>\n",
       "      <th>75%</th>\n",
       "      <td>1.692762</td>\n",
       "    </tr>\n",
       "    <tr>\n",
       "      <th>max</th>\n",
       "      <td>3.005791</td>\n",
       "    </tr>\n",
       "  </tbody>\n",
       "</table>\n",
       "</div>"
      ],
      "text/plain": [
       "        diff_avg\n",
       "count  79.000000\n",
       "mean    0.532271\n",
       "std     1.691831\n",
       "min    -3.244538\n",
       "25%    -0.816970\n",
       "50%     0.810433\n",
       "75%     1.692762\n",
       "max     3.005791"
      ]
     },
     "metadata": {},
     "output_type": "display_data"
    }
   ],
   "source": [
    "# create dataframe of sig. average differences in rating by condition\n",
    "diff_avg_conditions = pd.DataFrame(diff_avg_conditions, columns=['condition', 'diff_avg'])\n",
    "\n",
    "# plot distribution of average difference\n",
    "sns.distplot(diff_avg_conditions['diff_avg'], bins=10, kde=False)\n",
    "plt.xlabel('Significant Average Difference in Rating')\n",
    "plt.title('Distribution of Significant Average Differences by Condition')\n",
    "plt.show()\n",
    "\n",
    "# print summary statistics of sig. average differences in rating by condition\n",
    "display(diff_avg_conditions.describe())"
   ]
  },
  {
   "cell_type": "code",
   "execution_count": 92,
   "metadata": {},
   "outputs": [
    {
     "data": {
      "text/plain": [
       "'10 conditions with largest average increase in rating:'"
      ]
     },
     "metadata": {},
     "output_type": "display_data"
    },
    {
     "data": {
      "text/html": [
       "<div>\n",
       "<style scoped>\n",
       "    .dataframe tbody tr th:only-of-type {\n",
       "        vertical-align: middle;\n",
       "    }\n",
       "\n",
       "    .dataframe tbody tr th {\n",
       "        vertical-align: top;\n",
       "    }\n",
       "\n",
       "    .dataframe thead th {\n",
       "        text-align: right;\n",
       "    }\n",
       "</style>\n",
       "<table border=\"1\" class=\"dataframe\">\n",
       "  <thead>\n",
       "    <tr style=\"text-align: right;\">\n",
       "      <th></th>\n",
       "      <th>condition</th>\n",
       "      <th>diff_avg</th>\n",
       "    </tr>\n",
       "  </thead>\n",
       "  <tbody>\n",
       "    <tr>\n",
       "      <th>78</th>\n",
       "      <td>Menopausal Disorders</td>\n",
       "      <td>3.005791</td>\n",
       "    </tr>\n",
       "    <tr>\n",
       "      <th>77</th>\n",
       "      <td>Costochondritis</td>\n",
       "      <td>3.005791</td>\n",
       "    </tr>\n",
       "    <tr>\n",
       "      <th>76</th>\n",
       "      <td>B12 Nutritional Deficiency</td>\n",
       "      <td>3.005772</td>\n",
       "    </tr>\n",
       "    <tr>\n",
       "      <th>75</th>\n",
       "      <td>von Willebrand's Disease</td>\n",
       "      <td>3.005754</td>\n",
       "    </tr>\n",
       "    <tr>\n",
       "      <th>74</th>\n",
       "      <td>Gingivitis</td>\n",
       "      <td>3.005735</td>\n",
       "    </tr>\n",
       "    <tr>\n",
       "      <th>73</th>\n",
       "      <td>NSAID-Induced Gastric Ulce</td>\n",
       "      <td>2.862890</td>\n",
       "    </tr>\n",
       "    <tr>\n",
       "      <th>72</th>\n",
       "      <td>Dumping Syndrome</td>\n",
       "      <td>2.839062</td>\n",
       "    </tr>\n",
       "    <tr>\n",
       "      <th>69</th>\n",
       "      <td>Biliary Cirrhosis</td>\n",
       "      <td>2.672389</td>\n",
       "    </tr>\n",
       "    <tr>\n",
       "      <th>68</th>\n",
       "      <td>Mucositis</td>\n",
       "      <td>2.672389</td>\n",
       "    </tr>\n",
       "    <tr>\n",
       "      <th>70</th>\n",
       "      <td>amilial Mediterranean Feve</td>\n",
       "      <td>2.672389</td>\n",
       "    </tr>\n",
       "  </tbody>\n",
       "</table>\n",
       "</div>"
      ],
      "text/plain": [
       "                     condition  diff_avg\n",
       "78        Menopausal Disorders  3.005791\n",
       "77             Costochondritis  3.005791\n",
       "76  B12 Nutritional Deficiency  3.005772\n",
       "75    von Willebrand's Disease  3.005754\n",
       "74                  Gingivitis  3.005735\n",
       "73  NSAID-Induced Gastric Ulce  2.862890\n",
       "72            Dumping Syndrome  2.839062\n",
       "69           Biliary Cirrhosis  2.672389\n",
       "68                   Mucositis  2.672389\n",
       "70  amilial Mediterranean Feve  2.672389"
      ]
     },
     "metadata": {},
     "output_type": "display_data"
    },
    {
     "data": {
      "text/plain": [
       "'10 conditions with largest average decrease in rating:'"
      ]
     },
     "metadata": {},
     "output_type": "display_data"
    },
    {
     "data": {
      "text/html": [
       "<div>\n",
       "<style scoped>\n",
       "    .dataframe tbody tr th:only-of-type {\n",
       "        vertical-align: middle;\n",
       "    }\n",
       "\n",
       "    .dataframe tbody tr th {\n",
       "        vertical-align: top;\n",
       "    }\n",
       "\n",
       "    .dataframe thead th {\n",
       "        text-align: right;\n",
       "    }\n",
       "</style>\n",
       "<table border=\"1\" class=\"dataframe\">\n",
       "  <thead>\n",
       "    <tr style=\"text-align: right;\">\n",
       "      <th></th>\n",
       "      <th>condition</th>\n",
       "      <th>diff_avg</th>\n",
       "    </tr>\n",
       "  </thead>\n",
       "  <tbody>\n",
       "    <tr>\n",
       "      <th>0</th>\n",
       "      <td>Bronchospasm Prophylaxis</td>\n",
       "      <td>-3.244538</td>\n",
       "    </tr>\n",
       "    <tr>\n",
       "      <th>1</th>\n",
       "      <td>Sore Throat</td>\n",
       "      <td>-3.105661</td>\n",
       "    </tr>\n",
       "    <tr>\n",
       "      <th>2</th>\n",
       "      <td>Herpes Zoster, Prophylaxis</td>\n",
       "      <td>-2.994488</td>\n",
       "    </tr>\n",
       "    <tr>\n",
       "      <th>3</th>\n",
       "      <td>Macular Edema</td>\n",
       "      <td>-2.851643</td>\n",
       "    </tr>\n",
       "    <tr>\n",
       "      <th>4</th>\n",
       "      <td>Pancreatic Exocrine Dysfunction</td>\n",
       "      <td>-2.494501</td>\n",
       "    </tr>\n",
       "    <tr>\n",
       "      <th>5</th>\n",
       "      <td>Deep Vein Thrombosis, Recurrent Event</td>\n",
       "      <td>-2.438957</td>\n",
       "    </tr>\n",
       "    <tr>\n",
       "      <th>6</th>\n",
       "      <td>Prostatitis</td>\n",
       "      <td>-2.435311</td>\n",
       "    </tr>\n",
       "    <tr>\n",
       "      <th>7</th>\n",
       "      <td>Body Dysmorphic Disorde</td>\n",
       "      <td>-2.216723</td>\n",
       "    </tr>\n",
       "    <tr>\n",
       "      <th>8</th>\n",
       "      <td>Pelvic Inflammatory Disease</td>\n",
       "      <td>-2.216723</td>\n",
       "    </tr>\n",
       "    <tr>\n",
       "      <th>9</th>\n",
       "      <td>Keratoconjunctivitis Sicca</td>\n",
       "      <td>-1.568976</td>\n",
       "    </tr>\n",
       "  </tbody>\n",
       "</table>\n",
       "</div>"
      ],
      "text/plain": [
       "                               condition  diff_avg\n",
       "0               Bronchospasm Prophylaxis -3.244538\n",
       "1                            Sore Throat -3.105661\n",
       "2             Herpes Zoster, Prophylaxis -2.994488\n",
       "3                          Macular Edema -2.851643\n",
       "4        Pancreatic Exocrine Dysfunction -2.494501\n",
       "5  Deep Vein Thrombosis, Recurrent Event -2.438957\n",
       "6                            Prostatitis -2.435311\n",
       "7                Body Dysmorphic Disorde -2.216723\n",
       "8            Pelvic Inflammatory Disease -2.216723\n",
       "9             Keratoconjunctivitis Sicca -1.568976"
      ]
     },
     "metadata": {},
     "output_type": "display_data"
    }
   ],
   "source": [
    "# display 10 conditions with largest average increase\n",
    "top_diff_avg_conditions = diff_avg_conditions.sort_values('diff_avg', ascending=False)[:10]\n",
    "display('10 conditions with largest average increase in rating:', top_diff_avg_conditions)\n",
    "\n",
    "# display 10 conditions with largest average decrease\n",
    "bottom_diff_avg_conditions = diff_avg_conditions.sort_values('diff_avg', ascending=True)[:10]\n",
    "display('10 conditions with largest average decrease in rating:', bottom_diff_avg_conditions)"
   ]
  },
  {
   "cell_type": "markdown",
   "metadata": {},
   "source": [
    "## 4. Rating by Word"
   ]
  },
  {
   "cell_type": "code",
   "execution_count": 93,
   "metadata": {
    "scrolled": true
   },
   "outputs": [],
   "source": [
    "# create array of terms\n",
    "terms = term_matrix.columns"
   ]
  },
  {
   "cell_type": "markdown",
   "metadata": {},
   "source": [
    "### 4a. T-Test for Statistically Significant Average Difference\n",
    "I wanted to first evaluate which words had a statistically significant difference on average rating.\n",
    "\n",
    "My null hypotheses was that the difference between average ratings with and without the chosen word would be equal to zero. My alternative hypothesis was that the difference between average ratings with and without the chosen word would not be equal to zero.\n",
    "\n",
    "An alpha (p-value) of 0.05 was chosen to determine significance."
   ]
  },
  {
   "cell_type": "code",
   "execution_count": 94,
   "metadata": {},
   "outputs": [],
   "source": [
    "# set alpha\n",
    "alpha = 0.05\n",
    "\n",
    "# define function for t-test\n",
    "def ttest_term(data, term):\n",
    "    ''' Function to run a t-test on ratings with and without each term and return p-value.'''\n",
    "    has = data[data[term] > 0].rating\n",
    "    has_not = data[data[term] == 0].rating\n",
    "    t, p = stats.ttest_ind(has, has_not)\n",
    "    return p"
   ]
  },
  {
   "cell_type": "code",
   "execution_count": 95,
   "metadata": {},
   "outputs": [],
   "source": [
    "# perform t-test on ratings with and without each term\n",
    "pvalue_terms = [(i, ttest_term(term_matrix, i)) for i in terms]\n",
    "\n",
    "# only include drugs with p-values below alpha\n",
    "sig_terms = [(i[0], i[1]) for i in pvalue_terms if float(i[1]) < alpha]\n",
    "\n",
    "# sort\n",
    "sig_terms.sort(key=lambda x: x[1])"
   ]
  },
  {
   "cell_type": "markdown",
   "metadata": {},
   "source": [
    "### 4b. Significant Average Difference in Rating\n",
    "\n",
    "After determining which words had a significant difference on average rating, I wanted to determine words with the largest significant difference on average rating."
   ]
  },
  {
   "cell_type": "code",
   "execution_count": 96,
   "metadata": {},
   "outputs": [],
   "source": [
    "def diff_avg_word(data, word):\n",
    "    \"\"\"Function to return difference of mean ratings with and without each word.\"\"\"\n",
    "    has = np.mean(data[data[word] != 0].rating)\n",
    "    has_not = np.mean(data[data[word] == 0].rating)\n",
    "    diff = has - has_not\n",
    "    return diff"
   ]
  },
  {
   "cell_type": "code",
   "execution_count": 97,
   "metadata": {},
   "outputs": [],
   "source": [
    "# extract terms with significant difference from sig_terms\n",
    "sig_term_list = [i[0] for i in sig_terms]\n",
    "\n",
    "# calculate significant average difference of mean rating for each term\n",
    "diff_avg_terms = [(i, diff_avg_word(term_matrix, i)) for i in sig_term_list]\n",
    "\n",
    "# sort by average difference\n",
    "diff_avg_terms.sort(key=lambda x:x[1])"
   ]
  },
  {
   "cell_type": "code",
   "execution_count": 98,
   "metadata": {},
   "outputs": [
    {
     "data": {
      "image/png": "[encoded data removed]",
      "text/plain": [
       "<Figure size 432x288 with 1 Axes>"
      ]
     },
     "metadata": {
      "needs_background": "light"
     },
     "output_type": "display_data"
    },
    {
     "data": {
      "text/html": [
       "<div>\n",
       "<style scoped>\n",
       "    .dataframe tbody tr th:only-of-type {\n",
       "        vertical-align: middle;\n",
       "    }\n",
       "\n",
       "    .dataframe tbody tr th {\n",
       "        vertical-align: top;\n",
       "    }\n",
       "\n",
       "    .dataframe thead th {\n",
       "        text-align: right;\n",
       "    }\n",
       "</style>\n",
       "<table border=\"1\" class=\"dataframe\">\n",
       "  <thead>\n",
       "    <tr style=\"text-align: right;\">\n",
       "      <th></th>\n",
       "      <th>diff_avg</th>\n",
       "    </tr>\n",
       "  </thead>\n",
       "  <tbody>\n",
       "    <tr>\n",
       "      <th>count</th>\n",
       "      <td>125.000000</td>\n",
       "    </tr>\n",
       "    <tr>\n",
       "      <th>mean</th>\n",
       "      <td>0.000564</td>\n",
       "    </tr>\n",
       "    <tr>\n",
       "      <th>std</th>\n",
       "      <td>0.584384</td>\n",
       "    </tr>\n",
       "    <tr>\n",
       "      <th>min</th>\n",
       "      <td>-1.934883</td>\n",
       "    </tr>\n",
       "    <tr>\n",
       "      <th>25%</th>\n",
       "      <td>-0.335259</td>\n",
       "    </tr>\n",
       "    <tr>\n",
       "      <th>50%</th>\n",
       "      <td>0.042483</td>\n",
       "    </tr>\n",
       "    <tr>\n",
       "      <th>75%</th>\n",
       "      <td>0.378952</td>\n",
       "    </tr>\n",
       "    <tr>\n",
       "      <th>max</th>\n",
       "      <td>1.681499</td>\n",
       "    </tr>\n",
       "  </tbody>\n",
       "</table>\n",
       "</div>"
      ],
      "text/plain": [
       "         diff_avg\n",
       "count  125.000000\n",
       "mean     0.000564\n",
       "std      0.584384\n",
       "min     -1.934883\n",
       "25%     -0.335259\n",
       "50%      0.042483\n",
       "75%      0.378952\n",
       "max      1.681499"
      ]
     },
     "metadata": {},
     "output_type": "display_data"
    }
   ],
   "source": [
    "# create dataframe of sig. average difference by word\n",
    "diff_avg_terms = pd.DataFrame(diff_avg_terms, columns=['word', 'diff_avg'])\n",
    "\n",
    "# plot distribution\n",
    "sns.distplot(diff_avg_terms['diff_avg'], kde=False)\n",
    "plt.xlabel('Significant Average Difference in Rating')\n",
    "plt.title('Distribution of Significant Average Difference by Word')\n",
    "plt.show()\n",
    "\n",
    "# display summary statistics\n",
    "display(diff_avg_terms.describe())"
   ]
  },
  {
   "cell_type": "code",
   "execution_count": 99,
   "metadata": {},
   "outputs": [
    {
     "data": {
      "text/plain": [
       "'10 words with largest average increase in rating:'"
      ]
     },
     "metadata": {},
     "output_type": "display_data"
    },
    {
     "data": {
      "text/html": [
       "<div>\n",
       "<style scoped>\n",
       "    .dataframe tbody tr th:only-of-type {\n",
       "        vertical-align: middle;\n",
       "    }\n",
       "\n",
       "    .dataframe tbody tr th {\n",
       "        vertical-align: top;\n",
       "    }\n",
       "\n",
       "    .dataframe thead th {\n",
       "        text-align: right;\n",
       "    }\n",
       "</style>\n",
       "<table border=\"1\" class=\"dataframe\">\n",
       "  <thead>\n",
       "    <tr style=\"text-align: right;\">\n",
       "      <th></th>\n",
       "      <th>word</th>\n",
       "      <th>diff_avg</th>\n",
       "    </tr>\n",
       "  </thead>\n",
       "  <tbody>\n",
       "    <tr>\n",
       "      <th>124</th>\n",
       "      <td>best</td>\n",
       "      <td>1.681499</td>\n",
       "    </tr>\n",
       "    <tr>\n",
       "      <th>123</th>\n",
       "      <td>love</td>\n",
       "      <td>1.576991</td>\n",
       "    </tr>\n",
       "    <tr>\n",
       "      <th>122</th>\n",
       "      <td>great</td>\n",
       "      <td>1.151156</td>\n",
       "    </tr>\n",
       "    <tr>\n",
       "      <th>121</th>\n",
       "      <td>life</td>\n",
       "      <td>1.070807</td>\n",
       "    </tr>\n",
       "    <tr>\n",
       "      <th>120</th>\n",
       "      <td>year</td>\n",
       "      <td>0.953543</td>\n",
       "    </tr>\n",
       "    <tr>\n",
       "      <th>119</th>\n",
       "      <td>gone</td>\n",
       "      <td>0.946549</td>\n",
       "    </tr>\n",
       "    <tr>\n",
       "      <th>118</th>\n",
       "      <td>far</td>\n",
       "      <td>0.870904</td>\n",
       "    </tr>\n",
       "    <tr>\n",
       "      <th>117</th>\n",
       "      <td>without</td>\n",
       "      <td>0.853559</td>\n",
       "    </tr>\n",
       "    <tr>\n",
       "      <th>116</th>\n",
       "      <td>abl</td>\n",
       "      <td>0.851315</td>\n",
       "    </tr>\n",
       "    <tr>\n",
       "      <th>115</th>\n",
       "      <td>work</td>\n",
       "      <td>0.824908</td>\n",
       "    </tr>\n",
       "  </tbody>\n",
       "</table>\n",
       "</div>"
      ],
      "text/plain": [
       "        word  diff_avg\n",
       "124     best  1.681499\n",
       "123     love  1.576991\n",
       "122    great  1.151156\n",
       "121     life  1.070807\n",
       "120     year  0.953543\n",
       "119     gone  0.946549\n",
       "118      far  0.870904\n",
       "117  without  0.853559\n",
       "116      abl  0.851315\n",
       "115     work  0.824908"
      ]
     },
     "metadata": {},
     "output_type": "display_data"
    },
    {
     "data": {
      "text/plain": [
       "'10 words with largest average decrease in rating:'"
      ]
     },
     "metadata": {},
     "output_type": "display_data"
    },
    {
     "data": {
      "text/html": [
       "<div>\n",
       "<style scoped>\n",
       "    .dataframe tbody tr th:only-of-type {\n",
       "        vertical-align: middle;\n",
       "    }\n",
       "\n",
       "    .dataframe tbody tr th {\n",
       "        vertical-align: top;\n",
       "    }\n",
       "\n",
       "    .dataframe thead th {\n",
       "        text-align: right;\n",
       "    }\n",
       "</style>\n",
       "<table border=\"1\" class=\"dataframe\">\n",
       "  <thead>\n",
       "    <tr style=\"text-align: right;\">\n",
       "      <th></th>\n",
       "      <th>word</th>\n",
       "      <th>diff_avg</th>\n",
       "    </tr>\n",
       "  </thead>\n",
       "  <tbody>\n",
       "    <tr>\n",
       "      <th>0</th>\n",
       "      <td>wors</td>\n",
       "      <td>-1.934883</td>\n",
       "    </tr>\n",
       "    <tr>\n",
       "      <th>1</th>\n",
       "      <td>horribl</td>\n",
       "      <td>-1.751929</td>\n",
       "    </tr>\n",
       "    <tr>\n",
       "      <th>2</th>\n",
       "      <td>bleed</td>\n",
       "      <td>-1.522441</td>\n",
       "    </tr>\n",
       "    <tr>\n",
       "      <th>3</th>\n",
       "      <td>stop</td>\n",
       "      <td>-1.074971</td>\n",
       "    </tr>\n",
       "    <tr>\n",
       "      <th>4</th>\n",
       "      <td>switch</td>\n",
       "      <td>-1.058646</td>\n",
       "    </tr>\n",
       "    <tr>\n",
       "      <th>5</th>\n",
       "      <td>extrem</td>\n",
       "      <td>-1.042193</td>\n",
       "    </tr>\n",
       "    <tr>\n",
       "      <th>6</th>\n",
       "      <td>caus</td>\n",
       "      <td>-0.989315</td>\n",
       "    </tr>\n",
       "    <tr>\n",
       "      <th>7</th>\n",
       "      <td>never</td>\n",
       "      <td>-0.900904</td>\n",
       "    </tr>\n",
       "    <tr>\n",
       "      <th>8</th>\n",
       "      <td>made</td>\n",
       "      <td>-0.770485</td>\n",
       "    </tr>\n",
       "    <tr>\n",
       "      <th>9</th>\n",
       "      <td>headach</td>\n",
       "      <td>-0.725796</td>\n",
       "    </tr>\n",
       "  </tbody>\n",
       "</table>\n",
       "</div>"
      ],
      "text/plain": [
       "      word  diff_avg\n",
       "0     wors -1.934883\n",
       "1  horribl -1.751929\n",
       "2    bleed -1.522441\n",
       "3     stop -1.074971\n",
       "4   switch -1.058646\n",
       "5   extrem -1.042193\n",
       "6     caus -0.989315\n",
       "7    never -0.900904\n",
       "8     made -0.770485\n",
       "9  headach -0.725796"
      ]
     },
     "metadata": {},
     "output_type": "display_data"
    }
   ],
   "source": [
    "# display 10 words with largest significant average increase\n",
    "top_diff_avg_terms = diff_avg_terms.sort_values('diff_avg', ascending=False)[:10]\n",
    "display('10 words with largest average increase in rating:', top_diff_avg_terms)\n",
    "\n",
    "# display 10 words with largest significant average decrease\n",
    "bottom_diff_avg_terms = diff_avg_terms.sort_values('diff_avg', ascending=True)[:10]\n",
    "display('10 words with largest average decrease in rating:', bottom_diff_avg_terms)"
   ]
  },
  {
   "cell_type": "code",
   "execution_count": null,
   "metadata": {},
   "outputs": [],
   "source": []
  }
 ],
 "metadata": {
  "kernelspec": {
   "display_name": "Python 3",
   "language": "python",
   "name": "python3"
  },
  "language_info": {
   "codemirror_mode": {
    "name": "ipython",
    "version": 3
   },
   "file_extension": ".py",
   "mimetype": "text/x-python",
   "name": "python",
   "nbconvert_exporter": "python",
   "pygments_lexer": "ipython3",
   "version": "3.7.4"
  }
 },
 "nbformat": 4,
 "nbformat_minor": 4
}
