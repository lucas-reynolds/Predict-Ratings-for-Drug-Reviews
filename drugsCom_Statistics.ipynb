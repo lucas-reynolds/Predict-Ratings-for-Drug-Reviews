{
 "cells": [
  {
   "cell_type": "code",
   "execution_count": 93,
   "metadata": {},
   "outputs": [],
   "source": [
    "# import libraries\n",
    "import numpy as np\n",
    "import pandas as pd\n",
    "\n",
    "from scipy import stats\n",
    "from scipy.sparse import load_npz\n",
    "import pickle\n",
    "\n",
    "# visualization libraries\n",
    "import matplotlib.pyplot as plt\n",
    "import seaborn as sns\n",
    "\n",
    "from collections import Counter"
   ]
  },
  {
   "cell_type": "code",
   "execution_count": 94,
   "metadata": {},
   "outputs": [],
   "source": [
    "# import dataset\n",
    "data = pd.read_pickle('drugsCom_data')"
   ]
  },
  {
   "cell_type": "code",
   "execution_count": 95,
   "metadata": {},
   "outputs": [],
   "source": [
    "# import sparse matrix\n",
    "from scipy.sparse import load_npz\n",
    "\n",
    "term_matrix = load_npz('ngram_csr.npz')\n",
    "\n",
    "# convert back to dataframe\n",
    "term_matrix = pd.DataFrame(term_matrix.todense())"
   ]
  },
  {
   "cell_type": "code",
   "execution_count": 96,
   "metadata": {},
   "outputs": [],
   "source": [
    "# import column headers for dataframe\n",
    "import pickle\n",
    "\n",
    "pickle_in = open('list.pickle', 'rb')\n",
    "reviews_columns = pickle.load(pickle_in)\n",
    "\n",
    "# add column headers back to dataframe\n",
    "term_matrix.columns = reviews_columns"
   ]
  },
  {
   "cell_type": "code",
   "execution_count": 97,
   "metadata": {},
   "outputs": [],
   "source": [
    "# add ratings back to the matrix to allow filtering\n",
    "term_matrix['rating'] = data['rating']"
   ]
  },
  {
   "cell_type": "code",
   "execution_count": 98,
   "metadata": {},
   "outputs": [],
   "source": [
    "term_matrix = term_matrix.dropna()"
   ]
  },
  {
   "cell_type": "code",
   "execution_count": 575,
   "metadata": {},
   "outputs": [
    {
     "data": {
      "text/html": [
       "<div>\n",
       "<style scoped>\n",
       "    .dataframe tbody tr th:only-of-type {\n",
       "        vertical-align: middle;\n",
       "    }\n",
       "\n",
       "    .dataframe tbody tr th {\n",
       "        vertical-align: top;\n",
       "    }\n",
       "\n",
       "    .dataframe thead th {\n",
       "        text-align: right;\n",
       "    }\n",
       "</style>\n",
       "<table border=\"1\" class=\"dataframe\">\n",
       "  <thead>\n",
       "    <tr style=\"text-align: right;\">\n",
       "      <th></th>\n",
       "      <th>userID</th>\n",
       "      <th>drugName</th>\n",
       "      <th>condition</th>\n",
       "      <th>review</th>\n",
       "      <th>rating</th>\n",
       "      <th>date</th>\n",
       "      <th>usefulCount</th>\n",
       "      <th>character_count</th>\n",
       "      <th>word_count</th>\n",
       "      <th>clean_review</th>\n",
       "    </tr>\n",
       "  </thead>\n",
       "  <tbody>\n",
       "    <tr>\n",
       "      <th>0</th>\n",
       "      <td>206461</td>\n",
       "      <td>Valsartan</td>\n",
       "      <td>Left Ventricular Dysfunction</td>\n",
       "      <td>\"It has no side effect, I take it in combinati...</td>\n",
       "      <td>9.0</td>\n",
       "      <td>May 20, 2012</td>\n",
       "      <td>27</td>\n",
       "      <td>79</td>\n",
       "      <td>17</td>\n",
       "      <td>combination bystolic mg fish oil</td>\n",
       "    </tr>\n",
       "    <tr>\n",
       "      <th>1</th>\n",
       "      <td>95260</td>\n",
       "      <td>Guanfacine</td>\n",
       "      <td>ADHD</td>\n",
       "      <td>\"My son is halfway through his fourth week of ...</td>\n",
       "      <td>8.0</td>\n",
       "      <td>April 27, 2010</td>\n",
       "      <td>192</td>\n",
       "      <td>741</td>\n",
       "      <td>141</td>\n",
       "      <td>son halfway fourth intuniv became concerned be...</td>\n",
       "    </tr>\n",
       "    <tr>\n",
       "      <th>2</th>\n",
       "      <td>92703</td>\n",
       "      <td>Lybrel</td>\n",
       "      <td>Birth Control</td>\n",
       "      <td>\"I used to take another oral contraceptive, wh...</td>\n",
       "      <td>5.0</td>\n",
       "      <td>December 14, 2009</td>\n",
       "      <td>17</td>\n",
       "      <td>755</td>\n",
       "      <td>133</td>\n",
       "      <td>used another oral contraceptive pill cycle hap...</td>\n",
       "    </tr>\n",
       "  </tbody>\n",
       "</table>\n",
       "</div>"
      ],
      "text/plain": [
       "   userID    drugName                     condition  \\\n",
       "0  206461   Valsartan  Left Ventricular Dysfunction   \n",
       "1   95260  Guanfacine                          ADHD   \n",
       "2   92703      Lybrel                 Birth Control   \n",
       "\n",
       "                                              review  rating  \\\n",
       "0  \"It has no side effect, I take it in combinati...     9.0   \n",
       "1  \"My son is halfway through his fourth week of ...     8.0   \n",
       "2  \"I used to take another oral contraceptive, wh...     5.0   \n",
       "\n",
       "                date  usefulCount  character_count  word_count  \\\n",
       "0       May 20, 2012           27               79          17   \n",
       "1     April 27, 2010          192              741         141   \n",
       "2  December 14, 2009           17              755         133   \n",
       "\n",
       "                                        clean_review  \n",
       "0                   combination bystolic mg fish oil  \n",
       "1  son halfway fourth intuniv became concerned be...  \n",
       "2  used another oral contraceptive pill cycle hap...  "
      ]
     },
     "execution_count": 575,
     "metadata": {},
     "output_type": "execute_result"
    }
   ],
   "source": [
    "data.head(3)"
   ]
  },
  {
   "cell_type": "markdown",
   "metadata": {},
   "source": [
    "## Rating by Review Length"
   ]
  },
  {
   "cell_type": "code",
   "execution_count": 100,
   "metadata": {},
   "outputs": [
    {
     "data": {
      "image/png": "[encoded data removed]",
      "text/plain": [
       "<Figure size 432x288 with 1 Axes>"
      ]
     },
     "metadata": {
      "needs_background": "light"
     },
     "output_type": "display_data"
    },
    {
     "data": {
      "image/png": "[encoded data removed]",
      "text/plain": [
       "<Figure size 432x288 with 1 Axes>"
      ]
     },
     "metadata": {
      "needs_background": "light"
     },
     "output_type": "display_data"
    }
   ],
   "source": [
    "sns.set_palette('pastel')\n",
    "\n",
    "# boxplot of character count vs. rating\n",
    "_ = sns.boxplot(x='rating', y='character_count', data=data)\n",
    "_ = plt.title('Rating by Character Count')\n",
    "_ = plt.xlabel('rating')\n",
    "_ = plt.ylabel('character count')\n",
    "_ = plt.ylim(0,1500)\n",
    "plt.show()\n",
    "\n",
    "# boxplot of word count vs. rating\n",
    "_ = sns.boxplot(x='rating', y='word_count', data=data)\n",
    "_ = plt.title('Rating by Word Count')\n",
    "_ = plt.xlabel('rating')\n",
    "_ = plt.ylabel('word count')\n",
    "_ = plt.ylim(0,300)\n",
    "plt.show()"
   ]
  },
  {
   "cell_type": "markdown",
   "metadata": {},
   "source": [
    "### Correlation"
   ]
  },
  {
   "cell_type": "code",
   "execution_count": 578,
   "metadata": {},
   "outputs": [
    {
     "data": {
      "image/png": "[encoded data removed]",
      "text/plain": [
       "<Figure size 432x288 with 1 Axes>"
      ]
     },
     "metadata": {
      "needs_background": "light"
     },
     "output_type": "display_data"
    },
    {
     "name": "stdout",
     "output_type": "stream",
     "text": [
      "Correlation coefficient (r): 0.0267\n"
     ]
    }
   ],
   "source": [
    "# correlation of rating and word count\n",
    "ratings = data.rating.values\n",
    "word_counts = data.word_count.values\n",
    "\n",
    "# calculate regression line and correlation coefficient\n",
    "slope, intercept, r, p, stderr = stats.linregress(ratings, word_counts)\n",
    "\n",
    "# plot regression line\n",
    "plt.scatter(ratings, word_counts)\n",
    "plt.plot(ratings, intercept + slope * ratings)\n",
    "plt.xlabel('Rating')\n",
    "plt.ylabel('Word Count')\n",
    "plt.title('Rating vs. Word Count Correlation')\n",
    "plt.show()\n",
    "\n",
    "# print r\n",
    "print('Correlation coefficient (r):', round(r,4))"
   ]
  },
  {
   "cell_type": "code",
   "execution_count": 579,
   "metadata": {},
   "outputs": [
    {
     "data": {
      "image/png": "[encoded data removed]",
      "text/plain": [
       "<Figure size 432x288 with 1 Axes>"
      ]
     },
     "metadata": {
      "needs_background": "light"
     },
     "output_type": "display_data"
    },
    {
     "name": "stdout",
     "output_type": "stream",
     "text": [
      "Correlation coefficient (r): 0.0211\n"
     ]
    }
   ],
   "source": [
    "# correlation of rating and character count\n",
    "ratings = data.rating.values\n",
    "character_counts = data.character_count.values\n",
    "\n",
    "# calculate regression line and correlation coefficient\n",
    "slope, intercept, r, p, stderr = stats.linregress(ratings, character_counts)\n",
    "\n",
    "# plot regression line\n",
    "plt.scatter(ratings, character_counts)\n",
    "plt.plot(ratings, intercept + slope * ratings)\n",
    "plt.xlabel('Rating')\n",
    "plt.ylabel('Character Count')\n",
    "plt.title('Rating vs. Character Count Correlation')\n",
    "plt.show()\n",
    "\n",
    "# print r\n",
    "print('Correlation coefficient (r):', round(r,4))"
   ]
  },
  {
   "cell_type": "markdown",
   "metadata": {},
   "source": [
    "## Rating by Drug Name"
   ]
  },
  {
   "cell_type": "code",
   "execution_count": 212,
   "metadata": {},
   "outputs": [],
   "source": [
    "# only include drugs that have at least 50 reviews\n",
    "drug_names = data.drugName.unique()\n",
    "drug_counts = np.array([(i, data.drugName[data.drugName == i].count()) for i in drug_names])\n",
    "drug_names_50 = [i[0] for i in drug_counts if i[1] >= '50']"
   ]
  },
  {
   "cell_type": "markdown",
   "metadata": {},
   "source": [
    "### T-Test"
   ]
  },
  {
   "cell_type": "code",
   "execution_count": 580,
   "metadata": {},
   "outputs": [],
   "source": [
    "# set alpha for t-test\n",
    "alpha = 0.05\n",
    "\n",
    "# define function for t-test\n",
    "def ttest(data, column, value):\n",
    "    ''' Run t-test and return p-value.'''\n",
    "    has = data[data[column] == value].rating\n",
    "    has_not = data[data[column] != value].rating\n",
    "    t, p = stats.ttest_ind(has, has_not)\n",
    "    return p"
   ]
  },
  {
   "cell_type": "code",
   "execution_count": 581,
   "metadata": {},
   "outputs": [],
   "source": [
    "# perform t-test on ratings with and without each drug\n",
    "pvalue_drugs = [(i, ttest(data, 'drugName', i)) for i in drug_names_50]\n",
    "\n",
    "# return drugs with p-values below alpha and their p-values as an array\n",
    "sig_drugs = [(i[0], float(i[1])) for i in pvalue_drugs if float(i[1]) < alpha]\n",
    "\n",
    "# sort by p-value\n",
    "sig_drugs.sort(key=lambda x:x[1])"
   ]
  },
  {
   "cell_type": "code",
   "execution_count": 609,
   "metadata": {},
   "outputs": [
    {
     "data": {
      "text/plain": [
       "'10 drugs with lowest p-value:'"
      ]
     },
     "metadata": {},
     "output_type": "display_data"
    },
    {
     "data": {
      "text/html": [
       "<div>\n",
       "<style scoped>\n",
       "    .dataframe tbody tr th:only-of-type {\n",
       "        vertical-align: middle;\n",
       "    }\n",
       "\n",
       "    .dataframe tbody tr th {\n",
       "        vertical-align: top;\n",
       "    }\n",
       "\n",
       "    .dataframe thead th {\n",
       "        text-align: right;\n",
       "    }\n",
       "</style>\n",
       "<table border=\"1\" class=\"dataframe\">\n",
       "  <thead>\n",
       "    <tr style=\"text-align: right;\">\n",
       "      <th></th>\n",
       "      <th>drug_name</th>\n",
       "      <th>p_value</th>\n",
       "    </tr>\n",
       "  </thead>\n",
       "  <tbody>\n",
       "    <tr>\n",
       "      <th>1</th>\n",
       "      <td>Medroxyprogesterone</td>\n",
       "      <td>4.633446e-104</td>\n",
       "    </tr>\n",
       "    <tr>\n",
       "      <th>2</th>\n",
       "      <td>Depo-Provera</td>\n",
       "      <td>1.331054e-103</td>\n",
       "    </tr>\n",
       "    <tr>\n",
       "      <th>3</th>\n",
       "      <td>Tioconazole</td>\n",
       "      <td>1.949702e-93</td>\n",
       "    </tr>\n",
       "    <tr>\n",
       "      <th>4</th>\n",
       "      <td>Varenicline</td>\n",
       "      <td>1.380933e-56</td>\n",
       "    </tr>\n",
       "    <tr>\n",
       "      <th>5</th>\n",
       "      <td>Alprazolam</td>\n",
       "      <td>8.222851e-56</td>\n",
       "    </tr>\n",
       "    <tr>\n",
       "      <th>6</th>\n",
       "      <td>Chantix</td>\n",
       "      <td>6.307876e-48</td>\n",
       "    </tr>\n",
       "    <tr>\n",
       "      <th>7</th>\n",
       "      <td>Nitrofurantoin</td>\n",
       "      <td>2.495301e-46</td>\n",
       "    </tr>\n",
       "    <tr>\n",
       "      <th>8</th>\n",
       "      <td>Clonazepam</td>\n",
       "      <td>7.634204e-45</td>\n",
       "    </tr>\n",
       "    <tr>\n",
       "      <th>9</th>\n",
       "      <td>Plan B</td>\n",
       "      <td>1.970601e-36</td>\n",
       "    </tr>\n",
       "    <tr>\n",
       "      <th>10</th>\n",
       "      <td>Blisovi 24 Fe</td>\n",
       "      <td>4.091911e-29</td>\n",
       "    </tr>\n",
       "  </tbody>\n",
       "</table>\n",
       "</div>"
      ],
      "text/plain": [
       "              drug_name        p_value\n",
       "1   Medroxyprogesterone  4.633446e-104\n",
       "2          Depo-Provera  1.331054e-103\n",
       "3           Tioconazole   1.949702e-93\n",
       "4           Varenicline   1.380933e-56\n",
       "5            Alprazolam   8.222851e-56\n",
       "6               Chantix   6.307876e-48\n",
       "7        Nitrofurantoin   2.495301e-46\n",
       "8            Clonazepam   7.634204e-45\n",
       "9                Plan B   1.970601e-36\n",
       "10        Blisovi 24 Fe   4.091911e-29"
      ]
     },
     "metadata": {},
     "output_type": "display_data"
    }
   ],
   "source": [
    "# display 10 drugs with lowest p-values\n",
    "top_sig_drugs = pd.DataFrame(sig_drugs[:10], columns=['drug_name', 'p_value'], index=range(1,11))\n",
    "display('10 drugs with lowest p-value:', top_sig_drugs)"
   ]
  },
  {
   "cell_type": "markdown",
   "metadata": {},
   "source": [
    "### Differences in Average Ratings"
   ]
  },
  {
   "cell_type": "code",
   "execution_count": 612,
   "metadata": {},
   "outputs": [],
   "source": [
    "def diff_avg(data, column, value):\n",
    "    \"\"\"Return difference of mean ratings with and without each drug.\"\"\"\n",
    "    has = np.mean(data[data[column] == value].rating)\n",
    "    has_not = np.mean(data[data[column] != value].rating)\n",
    "    diff = has - has_not\n",
    "    return diff"
   ]
  },
  {
   "cell_type": "code",
   "execution_count": 622,
   "metadata": {},
   "outputs": [],
   "source": [
    "# make a list of sig_drugs\n",
    "sig_drugs_list = [i[0] for i in sig_drugs]\n",
    "\n",
    "# avgerage difference of mean rating for each drug\n",
    "diff_avg_drugs = [(i, diff_avg(data, 'drugName', i)) for i in sig_drugs_list]\n",
    "\n",
    "# sort by average difference\n",
    "diff_avg_drugs.sort(key=lambda x:x[1])"
   ]
  },
  {
   "cell_type": "code",
   "execution_count": 659,
   "metadata": {},
   "outputs": [
    {
     "data": {
      "text/plain": [
       "'10 drugs with largest increase in mean ratings:'"
      ]
     },
     "metadata": {},
     "output_type": "display_data"
    },
    {
     "data": {
      "text/html": [
       "<div>\n",
       "<style scoped>\n",
       "    .dataframe tbody tr th:only-of-type {\n",
       "        vertical-align: middle;\n",
       "    }\n",
       "\n",
       "    .dataframe tbody tr th {\n",
       "        vertical-align: top;\n",
       "    }\n",
       "\n",
       "    .dataframe thead th {\n",
       "        text-align: right;\n",
       "    }\n",
       "</style>\n",
       "<table border=\"1\" class=\"dataframe\">\n",
       "  <thead>\n",
       "    <tr style=\"text-align: right;\">\n",
       "      <th></th>\n",
       "      <th>drug_name</th>\n",
       "      <th>diff_avg</th>\n",
       "    </tr>\n",
       "  </thead>\n",
       "  <tbody>\n",
       "    <tr>\n",
       "      <th>232</th>\n",
       "      <td>Privine</td>\n",
       "      <td>3.004583</td>\n",
       "    </tr>\n",
       "    <tr>\n",
       "      <th>231</th>\n",
       "      <td>Zinc oxide</td>\n",
       "      <td>3.004564</td>\n",
       "    </tr>\n",
       "    <tr>\n",
       "      <th>230</th>\n",
       "      <td>Astelin</td>\n",
       "      <td>3.004564</td>\n",
       "    </tr>\n",
       "    <tr>\n",
       "      <th>229</th>\n",
       "      <td>Acetaminophen / pseudoephedrine</td>\n",
       "      <td>3.004545</td>\n",
       "    </tr>\n",
       "    <tr>\n",
       "      <th>228</th>\n",
       "      <td>Chlorpheniramine / phenylephrine</td>\n",
       "      <td>3.004526</td>\n",
       "    </tr>\n",
       "    <tr>\n",
       "      <th>227</th>\n",
       "      <td>Biafine</td>\n",
       "      <td>2.861682</td>\n",
       "    </tr>\n",
       "    <tr>\n",
       "      <th>226</th>\n",
       "      <td>Niravam</td>\n",
       "      <td>2.861682</td>\n",
       "    </tr>\n",
       "    <tr>\n",
       "      <th>225</th>\n",
       "      <td>Avonex Pen</td>\n",
       "      <td>2.837854</td>\n",
       "    </tr>\n",
       "    <tr>\n",
       "      <th>224</th>\n",
       "      <td>Belladonna / opium</td>\n",
       "      <td>2.837854</td>\n",
       "    </tr>\n",
       "    <tr>\n",
       "      <th>223</th>\n",
       "      <td>Primatene Mist</td>\n",
       "      <td>2.837854</td>\n",
       "    </tr>\n",
       "  </tbody>\n",
       "</table>\n",
       "</div>"
      ],
      "text/plain": [
       "                            drug_name  diff_avg\n",
       "232                           Privine  3.004583\n",
       "231                        Zinc oxide  3.004564\n",
       "230                           Astelin  3.004564\n",
       "229   Acetaminophen / pseudoephedrine  3.004545\n",
       "228  Chlorpheniramine / phenylephrine  3.004526\n",
       "227                           Biafine  2.861682\n",
       "226                           Niravam  2.861682\n",
       "225                        Avonex Pen  2.837854\n",
       "224                Belladonna / opium  2.837854\n",
       "223                    Primatene Mist  2.837854"
      ]
     },
     "metadata": {},
     "output_type": "display_data"
    }
   ],
   "source": [
    "# display 10 drugs with largest average increase\n",
    "top_diff_avg_drugs = pd.DataFrame(diff_avg_drugs, columns=['drug_name', 'diff_avg'])\n",
    "top_diff_avg_drugs = top_diff_avg_drugs.sort_values('diff_avg', ascending=False)[:10]\n",
    "display('10 drugs with largest increase in mean ratings:', top_diff_avg_drugs)"
   ]
  },
  {
   "cell_type": "code",
   "execution_count": 660,
   "metadata": {},
   "outputs": [
    {
     "data": {
      "text/plain": [
       "'10 drugs with largest increase in mean ratings:'"
      ]
     },
     "metadata": {},
     "output_type": "display_data"
    },
    {
     "data": {
      "text/html": [
       "<div>\n",
       "<style scoped>\n",
       "    .dataframe tbody tr th:only-of-type {\n",
       "        vertical-align: middle;\n",
       "    }\n",
       "\n",
       "    .dataframe tbody tr th {\n",
       "        vertical-align: top;\n",
       "    }\n",
       "\n",
       "    .dataframe thead th {\n",
       "        text-align: right;\n",
       "    }\n",
       "</style>\n",
       "<table border=\"1\" class=\"dataframe\">\n",
       "  <thead>\n",
       "    <tr style=\"text-align: right;\">\n",
       "      <th></th>\n",
       "      <th>drug_name</th>\n",
       "      <th>diff_avg</th>\n",
       "    </tr>\n",
       "  </thead>\n",
       "  <tbody>\n",
       "    <tr>\n",
       "      <th>0</th>\n",
       "      <td>Systane</td>\n",
       "      <td>-4.870829</td>\n",
       "    </tr>\n",
       "    <tr>\n",
       "      <th>1</th>\n",
       "      <td>Succinylcholine</td>\n",
       "      <td>-4.620816</td>\n",
       "    </tr>\n",
       "    <tr>\n",
       "      <th>2</th>\n",
       "      <td>Trimethoprim</td>\n",
       "      <td>-4.245798</td>\n",
       "    </tr>\n",
       "    <tr>\n",
       "      <th>3</th>\n",
       "      <td>Chloraseptic Sore Throat Spray</td>\n",
       "      <td>-3.995760</td>\n",
       "    </tr>\n",
       "    <tr>\n",
       "      <th>4</th>\n",
       "      <td>Monistat 7</td>\n",
       "      <td>-3.964860</td>\n",
       "    </tr>\n",
       "    <tr>\n",
       "      <th>5</th>\n",
       "      <td>Blisovi 24 Fe</td>\n",
       "      <td>-3.885382</td>\n",
       "    </tr>\n",
       "    <tr>\n",
       "      <th>6</th>\n",
       "      <td>Rhofade</td>\n",
       "      <td>-3.773575</td>\n",
       "    </tr>\n",
       "    <tr>\n",
       "      <th>7</th>\n",
       "      <td>Influenza virus vaccine, live, trivalent</td>\n",
       "      <td>-3.662458</td>\n",
       "    </tr>\n",
       "    <tr>\n",
       "      <th>8</th>\n",
       "      <td>Delsym</td>\n",
       "      <td>-3.509837</td>\n",
       "    </tr>\n",
       "    <tr>\n",
       "      <th>9</th>\n",
       "      <td>Estradiol Patch</td>\n",
       "      <td>-3.440223</td>\n",
       "    </tr>\n",
       "  </tbody>\n",
       "</table>\n",
       "</div>"
      ],
      "text/plain": [
       "                                  drug_name  diff_avg\n",
       "0                                   Systane -4.870829\n",
       "1                           Succinylcholine -4.620816\n",
       "2                              Trimethoprim -4.245798\n",
       "3            Chloraseptic Sore Throat Spray -3.995760\n",
       "4                                Monistat 7 -3.964860\n",
       "5                             Blisovi 24 Fe -3.885382\n",
       "6                                   Rhofade -3.773575\n",
       "7  Influenza virus vaccine, live, trivalent -3.662458\n",
       "8                                    Delsym -3.509837\n",
       "9                           Estradiol Patch -3.440223"
      ]
     },
     "metadata": {},
     "output_type": "display_data"
    }
   ],
   "source": [
    "# display 10 drugs with largest average decrease\n",
    "bottom_diff_avg_drugs = pd.DataFrame(diff_avg_drugs, columns=['drug_name', 'diff_avg'])\n",
    "bottom_diff_avg_drugs = bottom_diff_avg_drugs.sort_values('diff_avg', ascending=True)[:10]\n",
    "display('10 drugs with largest increase in mean ratings:', bottom_diff_avg_drugs)"
   ]
  },
  {
   "cell_type": "code",
   "execution_count": 635,
   "metadata": {},
   "outputs": [
    {
     "data": {
      "image/png": "[encoded data removed]",
      "text/plain": [
       "<Figure size 432x288 with 1 Axes>"
      ]
     },
     "metadata": {
      "needs_background": "light"
     },
     "output_type": "display_data"
    }
   ],
   "source": [
    "# plot distribution of average difference\n",
    "diff_avgs = [i[1] for i in diff_avg_drugs]\n",
    "\n",
    "plt.hist(diff_avgs, bins=10)\n",
    "plt.xlabel('Avg. Difference (Rating)')\n",
    "plt.ylabel('# of Drugs')\n",
    "plt.title('Distribution of Avg. Difference of Rating by Drug')\n",
    "plt.show()"
   ]
  },
  {
   "cell_type": "markdown",
   "metadata": {},
   "source": [
    "## Rating by Condition"
   ]
  },
  {
   "cell_type": "code",
   "execution_count": 638,
   "metadata": {},
   "outputs": [],
   "source": [
    "# only include conditions that have at least 50 reviews\n",
    "condition_names = data.condition.unique()\n",
    "condition_counts = np.array([(i, data.condition[data.condition == i].count()) for i in condition_names])\n",
    "condition_names_50 = [i[0] for i in condition_counts if i[1] >= '50']"
   ]
  },
  {
   "cell_type": "markdown",
   "metadata": {},
   "source": [
    "### T-Test"
   ]
  },
  {
   "cell_type": "code",
   "execution_count": 639,
   "metadata": {},
   "outputs": [],
   "source": [
    "# set alpha for t-test\n",
    "alpha = 0.05"
   ]
  },
  {
   "cell_type": "code",
   "execution_count": 640,
   "metadata": {},
   "outputs": [],
   "source": [
    "# perform t-test on ratings with and without each drug\n",
    "pvalue_conditions = [(i, ttest(data, 'condition', i)) for i in condition_names_50]\n",
    "\n",
    "# only include drugs with p-values below alpha\n",
    "sig_conditions = [(i[0], i[1]) for i in pvalue_conditions if float(i[1]) < alpha]\n",
    "\n",
    "# sort\n",
    "sig_conditions.sort(key=lambda x: x[1])"
   ]
  },
  {
   "cell_type": "code",
   "execution_count": 665,
   "metadata": {},
   "outputs": [
    {
     "data": {
      "text/plain": [
       "'10 conditions with lowest p-value:'"
      ]
     },
     "metadata": {},
     "output_type": "display_data"
    },
    {
     "data": {
      "text/html": [
       "<div>\n",
       "<style scoped>\n",
       "    .dataframe tbody tr th:only-of-type {\n",
       "        vertical-align: middle;\n",
       "    }\n",
       "\n",
       "    .dataframe tbody tr th {\n",
       "        vertical-align: top;\n",
       "    }\n",
       "\n",
       "    .dataframe thead th {\n",
       "        text-align: right;\n",
       "    }\n",
       "</style>\n",
       "<table border=\"1\" class=\"dataframe\">\n",
       "  <thead>\n",
       "    <tr style=\"text-align: right;\">\n",
       "      <th></th>\n",
       "      <th>condition</th>\n",
       "      <th>p_value</th>\n",
       "    </tr>\n",
       "  </thead>\n",
       "  <tbody>\n",
       "    <tr>\n",
       "      <th>1</th>\n",
       "      <td>Anxiety</td>\n",
       "      <td>3.263976e-62</td>\n",
       "    </tr>\n",
       "    <tr>\n",
       "      <th>2</th>\n",
       "      <td>Pain</td>\n",
       "      <td>1.438321e-54</td>\n",
       "    </tr>\n",
       "    <tr>\n",
       "      <th>3</th>\n",
       "      <td>Hyperhidrosis</td>\n",
       "      <td>6.641318e-54</td>\n",
       "    </tr>\n",
       "    <tr>\n",
       "      <th>4</th>\n",
       "      <td>HIV Infection</td>\n",
       "      <td>2.666925e-33</td>\n",
       "    </tr>\n",
       "    <tr>\n",
       "      <th>5</th>\n",
       "      <td>Hepatitis C</td>\n",
       "      <td>1.158493e-28</td>\n",
       "    </tr>\n",
       "    <tr>\n",
       "      <th>6</th>\n",
       "      <td>Sinusitis</td>\n",
       "      <td>8.789012e-25</td>\n",
       "    </tr>\n",
       "    <tr>\n",
       "      <th>7</th>\n",
       "      <td>Bacterial Infection</td>\n",
       "      <td>1.514498e-22</td>\n",
       "    </tr>\n",
       "    <tr>\n",
       "      <th>8</th>\n",
       "      <td>High Cholesterol</td>\n",
       "      <td>1.241918e-21</td>\n",
       "    </tr>\n",
       "    <tr>\n",
       "      <th>9</th>\n",
       "      <td>Psoriasis</td>\n",
       "      <td>5.527998e-21</td>\n",
       "    </tr>\n",
       "    <tr>\n",
       "      <th>10</th>\n",
       "      <td>Overactive Bladde</td>\n",
       "      <td>2.259705e-19</td>\n",
       "    </tr>\n",
       "  </tbody>\n",
       "</table>\n",
       "</div>"
      ],
      "text/plain": [
       "              condition       p_value\n",
       "1               Anxiety  3.263976e-62\n",
       "2                  Pain  1.438321e-54\n",
       "3         Hyperhidrosis  6.641318e-54\n",
       "4         HIV Infection  2.666925e-33\n",
       "5           Hepatitis C  1.158493e-28\n",
       "6             Sinusitis  8.789012e-25\n",
       "7   Bacterial Infection  1.514498e-22\n",
       "8      High Cholesterol  1.241918e-21\n",
       "9             Psoriasis  5.527998e-21\n",
       "10    Overactive Bladde  2.259705e-19"
      ]
     },
     "metadata": {},
     "output_type": "display_data"
    }
   ],
   "source": [
    "# display 10 conditions with lowest p-values\n",
    "top_sig_conditions = pd.DataFrame(sig_conditions[:10], columns=['condition', 'p_value'], index=range(1,11))\n",
    "display('10 conditions with lowest p-value:', top_sig_conditions)"
   ]
  },
  {
   "cell_type": "markdown",
   "metadata": {},
   "source": [
    "### Average Difference"
   ]
  },
  {
   "cell_type": "code",
   "execution_count": 642,
   "metadata": {},
   "outputs": [],
   "source": [
    "# make a list of sig_drugs\n",
    "sig_conditions_list = [i[0] for i in sig_conditions]\n",
    "\n",
    "# avgerage difference of mean rating for each drug\n",
    "diff_avg_conditions = [(i, diff_avg(data, 'condition', i)) for i in sig_conditions_list]\n",
    "\n",
    "# sort by average difference\n",
    "diff_avg_conditions.sort(key=lambda x:x[1])"
   ]
  },
  {
   "cell_type": "code",
   "execution_count": 661,
   "metadata": {},
   "outputs": [
    {
     "data": {
      "text/plain": [
       "'10 conditions with largest increase in mean ratings:'"
      ]
     },
     "metadata": {},
     "output_type": "display_data"
    },
    {
     "data": {
      "text/html": [
       "<div>\n",
       "<style scoped>\n",
       "    .dataframe tbody tr th:only-of-type {\n",
       "        vertical-align: middle;\n",
       "    }\n",
       "\n",
       "    .dataframe tbody tr th {\n",
       "        vertical-align: top;\n",
       "    }\n",
       "\n",
       "    .dataframe thead th {\n",
       "        text-align: right;\n",
       "    }\n",
       "</style>\n",
       "<table border=\"1\" class=\"dataframe\">\n",
       "  <thead>\n",
       "    <tr style=\"text-align: right;\">\n",
       "      <th></th>\n",
       "      <th>condition</th>\n",
       "      <th>diff_avg</th>\n",
       "    </tr>\n",
       "  </thead>\n",
       "  <tbody>\n",
       "    <tr>\n",
       "      <th>74</th>\n",
       "      <td>Costochondritis</td>\n",
       "      <td>3.004583</td>\n",
       "    </tr>\n",
       "    <tr>\n",
       "      <th>73</th>\n",
       "      <td>Menopausal Disorders</td>\n",
       "      <td>3.004583</td>\n",
       "    </tr>\n",
       "    <tr>\n",
       "      <th>72</th>\n",
       "      <td>B12 Nutritional Deficiency</td>\n",
       "      <td>3.004564</td>\n",
       "    </tr>\n",
       "    <tr>\n",
       "      <th>71</th>\n",
       "      <td>von Willebrand's Disease</td>\n",
       "      <td>3.004545</td>\n",
       "    </tr>\n",
       "    <tr>\n",
       "      <th>70</th>\n",
       "      <td>Gingivitis</td>\n",
       "      <td>3.004526</td>\n",
       "    </tr>\n",
       "    <tr>\n",
       "      <th>69</th>\n",
       "      <td>NSAID-Induced Gastric Ulce</td>\n",
       "      <td>2.861682</td>\n",
       "    </tr>\n",
       "    <tr>\n",
       "      <th>68</th>\n",
       "      <td>Dumping Syndrome</td>\n",
       "      <td>2.837854</td>\n",
       "    </tr>\n",
       "    <tr>\n",
       "      <th>65</th>\n",
       "      <td>Biliary Cirrhosis</td>\n",
       "      <td>2.671181</td>\n",
       "    </tr>\n",
       "    <tr>\n",
       "      <th>64</th>\n",
       "      <td>Mucositis</td>\n",
       "      <td>2.671181</td>\n",
       "    </tr>\n",
       "    <tr>\n",
       "      <th>67</th>\n",
       "      <td>Herpes Simplex, Mucocutaneous/Immunocompromise...</td>\n",
       "      <td>2.671181</td>\n",
       "    </tr>\n",
       "  </tbody>\n",
       "</table>\n",
       "</div>"
      ],
      "text/plain": [
       "                                            condition  diff_avg\n",
       "74                                    Costochondritis  3.004583\n",
       "73                               Menopausal Disorders  3.004583\n",
       "72                         B12 Nutritional Deficiency  3.004564\n",
       "71                           von Willebrand's Disease  3.004545\n",
       "70                                         Gingivitis  3.004526\n",
       "69                         NSAID-Induced Gastric Ulce  2.861682\n",
       "68                                   Dumping Syndrome  2.837854\n",
       "65                                  Biliary Cirrhosis  2.671181\n",
       "64                                          Mucositis  2.671181\n",
       "67  Herpes Simplex, Mucocutaneous/Immunocompromise...  2.671181"
      ]
     },
     "metadata": {},
     "output_type": "display_data"
    }
   ],
   "source": [
    "# display 10 conditions with largest average increase\n",
    "top_diff_avg_conditions = pd.DataFrame(diff_avg_conditions, columns=['condition', 'diff_avg'])\n",
    "top_diff_avg_conditions = top_diff_avg_conditions.sort_values('diff_avg', ascending=False)[:10]\n",
    "display('10 conditions with largest increase in mean ratings:', top_diff_avg_conditions)"
   ]
  },
  {
   "cell_type": "code",
   "execution_count": 663,
   "metadata": {},
   "outputs": [
    {
     "data": {
      "text/plain": [
       "'10 conditions with largest increase in mean ratings:'"
      ]
     },
     "metadata": {},
     "output_type": "display_data"
    },
    {
     "data": {
      "text/html": [
       "<div>\n",
       "<style scoped>\n",
       "    .dataframe tbody tr th:only-of-type {\n",
       "        vertical-align: middle;\n",
       "    }\n",
       "\n",
       "    .dataframe tbody tr th {\n",
       "        vertical-align: top;\n",
       "    }\n",
       "\n",
       "    .dataframe thead th {\n",
       "        text-align: right;\n",
       "    }\n",
       "</style>\n",
       "<table border=\"1\" class=\"dataframe\">\n",
       "  <thead>\n",
       "    <tr style=\"text-align: right;\">\n",
       "      <th></th>\n",
       "      <th>condition</th>\n",
       "      <th>diff_avg</th>\n",
       "    </tr>\n",
       "  </thead>\n",
       "  <tbody>\n",
       "    <tr>\n",
       "      <th>0</th>\n",
       "      <td>Bronchospasm Prophylaxis</td>\n",
       "      <td>-3.245748</td>\n",
       "    </tr>\n",
       "    <tr>\n",
       "      <th>1</th>\n",
       "      <td>Sore Throat</td>\n",
       "      <td>-3.106871</td>\n",
       "    </tr>\n",
       "    <tr>\n",
       "      <th>2</th>\n",
       "      <td>Herpes Zoster, Prophylaxis</td>\n",
       "      <td>-2.995698</td>\n",
       "    </tr>\n",
       "    <tr>\n",
       "      <th>3</th>\n",
       "      <td>Macular Edema</td>\n",
       "      <td>-2.852853</td>\n",
       "    </tr>\n",
       "    <tr>\n",
       "      <th>4</th>\n",
       "      <td>Pancreatic Exocrine Dysfunction</td>\n",
       "      <td>-2.495710</td>\n",
       "    </tr>\n",
       "    <tr>\n",
       "      <th>5</th>\n",
       "      <td>Deep Vein Thrombosis, Recurrent Event</td>\n",
       "      <td>-2.440167</td>\n",
       "    </tr>\n",
       "    <tr>\n",
       "      <th>6</th>\n",
       "      <td>Prostatitis</td>\n",
       "      <td>-2.436529</td>\n",
       "    </tr>\n",
       "    <tr>\n",
       "      <th>8</th>\n",
       "      <td>Pelvic Inflammatory Disease</td>\n",
       "      <td>-2.217933</td>\n",
       "    </tr>\n",
       "    <tr>\n",
       "      <th>7</th>\n",
       "      <td>Body Dysmorphic Disorde</td>\n",
       "      <td>-2.217933</td>\n",
       "    </tr>\n",
       "    <tr>\n",
       "      <th>9</th>\n",
       "      <td>Keratoconjunctivitis Sicca</td>\n",
       "      <td>-1.570189</td>\n",
       "    </tr>\n",
       "  </tbody>\n",
       "</table>\n",
       "</div>"
      ],
      "text/plain": [
       "                               condition  diff_avg\n",
       "0               Bronchospasm Prophylaxis -3.245748\n",
       "1                            Sore Throat -3.106871\n",
       "2             Herpes Zoster, Prophylaxis -2.995698\n",
       "3                          Macular Edema -2.852853\n",
       "4        Pancreatic Exocrine Dysfunction -2.495710\n",
       "5  Deep Vein Thrombosis, Recurrent Event -2.440167\n",
       "6                            Prostatitis -2.436529\n",
       "8            Pelvic Inflammatory Disease -2.217933\n",
       "7                Body Dysmorphic Disorde -2.217933\n",
       "9             Keratoconjunctivitis Sicca -1.570189"
      ]
     },
     "metadata": {},
     "output_type": "display_data"
    }
   ],
   "source": [
    "# display 10 conditions with largest average decrease\n",
    "bottom_diff_avg_conditions = pd.DataFrame(diff_avg_conditions, columns=['condition', 'diff_avg'])\n",
    "bottom_diff_avg_conditions = bottom_diff_avg_conditions.sort_values('diff_avg', ascending=True)[:10]\n",
    "display('10 conditions with largest increase in mean ratings:', bottom_diff_avg_conditions)"
   ]
  },
  {
   "cell_type": "code",
   "execution_count": 647,
   "metadata": {},
   "outputs": [
    {
     "data": {
      "image/png": "[encoded data removed]",
      "text/plain": [
       "<Figure size 432x288 with 1 Axes>"
      ]
     },
     "metadata": {
      "needs_background": "light"
     },
     "output_type": "display_data"
    }
   ],
   "source": [
    "# plot distribution of average difference\n",
    "diff_avgs = [i[1] for i in diff_avg_conditions]\n",
    "\n",
    "plt.hist(diff_avgs, bins=10)\n",
    "plt.xlabel('Avg. Difference (Rating)')\n",
    "plt.ylabel('# of Conditions')\n",
    "plt.title('Distribution of Avg. Difference of Rating by Condition')\n",
    "plt.show()"
   ]
  },
  {
   "cell_type": "markdown",
   "metadata": {},
   "source": [
    "## Rating by Word"
   ]
  },
  {
   "cell_type": "code",
   "execution_count": 44,
   "metadata": {
    "scrolled": true
   },
   "outputs": [],
   "source": [
    "# create array of terms\n",
    "terms = term_matrix.columns"
   ]
  },
  {
   "cell_type": "markdown",
   "metadata": {},
   "source": [
    "### T-test"
   ]
  },
  {
   "cell_type": "code",
   "execution_count": 46,
   "metadata": {},
   "outputs": [],
   "source": [
    "# set alpha\n",
    "alpha = 0.05\n",
    "\n",
    "# define function for t-test\n",
    "def ttest_term(data, term):\n",
    "    ''' Run t-test on ratings with and without each term and return p-value.'''\n",
    "    has = data[data[term] > 0].rating\n",
    "    has_not = data[data[term] == 0].rating\n",
    "    t, p = stats.ttest_ind(has, has_not)\n",
    "    return p"
   ]
  },
  {
   "cell_type": "code",
   "execution_count": 490,
   "metadata": {},
   "outputs": [],
   "source": [
    "# perform t-test on ratings with and without each term\n",
    "pvalue_terms = [(i, ttest_term(term_matrix, i)) for i in terms]\n",
    "\n",
    "# only include drugs with p-values below alpha\n",
    "sig_terms = [(i[0], i[1]) for i in pvalue_terms if float(i[1]) < alpha]\n",
    "\n",
    "# sort\n",
    "sig_terms.sort(key=lambda x: x[1])"
   ]
  },
  {
   "cell_type": "code",
   "execution_count": 666,
   "metadata": {},
   "outputs": [
    {
     "data": {
      "text/plain": [
       "'10 words with lowest p-value:'"
      ]
     },
     "metadata": {},
     "output_type": "display_data"
    },
    {
     "data": {
      "text/html": [
       "<div>\n",
       "<style scoped>\n",
       "    .dataframe tbody tr th:only-of-type {\n",
       "        vertical-align: middle;\n",
       "    }\n",
       "\n",
       "    .dataframe tbody tr th {\n",
       "        vertical-align: top;\n",
       "    }\n",
       "\n",
       "    .dataframe thead th {\n",
       "        text-align: right;\n",
       "    }\n",
       "</style>\n",
       "<table border=\"1\" class=\"dataframe\">\n",
       "  <thead>\n",
       "    <tr style=\"text-align: right;\">\n",
       "      <th></th>\n",
       "      <th>word</th>\n",
       "      <th>p_value</th>\n",
       "    </tr>\n",
       "  </thead>\n",
       "  <tbody>\n",
       "    <tr>\n",
       "      <th>1</th>\n",
       "      <td>moist</td>\n",
       "      <td>0.000164</td>\n",
       "    </tr>\n",
       "    <tr>\n",
       "      <th>2</th>\n",
       "      <td>reported</td>\n",
       "      <td>0.000670</td>\n",
       "    </tr>\n",
       "    <tr>\n",
       "      <th>3</th>\n",
       "      <td>kept</td>\n",
       "      <td>0.000908</td>\n",
       "    </tr>\n",
       "    <tr>\n",
       "      <th>4</th>\n",
       "      <td>bloat</td>\n",
       "      <td>0.000996</td>\n",
       "    </tr>\n",
       "    <tr>\n",
       "      <th>5</th>\n",
       "      <td>agoraphobia</td>\n",
       "      <td>0.001343</td>\n",
       "    </tr>\n",
       "    <tr>\n",
       "      <th>6</th>\n",
       "      <td>stopped</td>\n",
       "      <td>0.001473</td>\n",
       "    </tr>\n",
       "    <tr>\n",
       "      <th>7</th>\n",
       "      <td>loopy</td>\n",
       "      <td>0.001696</td>\n",
       "    </tr>\n",
       "    <tr>\n",
       "      <th>8</th>\n",
       "      <td>restarted</td>\n",
       "      <td>0.001756</td>\n",
       "    </tr>\n",
       "    <tr>\n",
       "      <th>9</th>\n",
       "      <td>alarming</td>\n",
       "      <td>0.001783</td>\n",
       "    </tr>\n",
       "    <tr>\n",
       "      <th>10</th>\n",
       "      <td>levoxyl</td>\n",
       "      <td>0.001906</td>\n",
       "    </tr>\n",
       "  </tbody>\n",
       "</table>\n",
       "</div>"
      ],
      "text/plain": [
       "           word   p_value\n",
       "1         moist  0.000164\n",
       "2      reported  0.000670\n",
       "3          kept  0.000908\n",
       "4         bloat  0.000996\n",
       "5   agoraphobia  0.001343\n",
       "6       stopped  0.001473\n",
       "7         loopy  0.001696\n",
       "8     restarted  0.001756\n",
       "9      alarming  0.001783\n",
       "10      levoxyl  0.001906"
      ]
     },
     "metadata": {},
     "output_type": "display_data"
    }
   ],
   "source": [
    "# display 10 words with lowest p-values\n",
    "top_sig_terms = pd.DataFrame(sig_terms[:10], columns=['word', 'p_value'], index=range(1,11))\n",
    "display('10 words with lowest p-value:', top_sig_terms)"
   ]
  },
  {
   "cell_type": "markdown",
   "metadata": {},
   "source": [
    "### Average Difference"
   ]
  },
  {
   "cell_type": "code",
   "execution_count": 537,
   "metadata": {},
   "outputs": [],
   "source": [
    "def diff_avg_word(data, word):\n",
    "    \"\"\"Return difference of mean ratings with and without each word.\"\"\"\n",
    "    has = np.mean(data[data[word] != 0].rating)\n",
    "    has_not = np.mean(data[data[word] == 0].rating)\n",
    "    diff = has - has_not\n",
    "    return diff"
   ]
  },
  {
   "cell_type": "code",
   "execution_count": 574,
   "metadata": {},
   "outputs": [],
   "source": [
    "# extract terms from sig_terms\n",
    "sig_term = [i[0] for i in sig_terms]\n",
    "\n",
    "# avgerage difference of mean rating for each term\n",
    "diff_avg_term = [(i, diff_avg_word(term_matrix, i)) for i in sig_term]\n",
    "\n",
    "# sort by average difference\n",
    "diff_avg_term.sort(key=lambda x:x[1])"
   ]
  },
  {
   "cell_type": "code",
   "execution_count": 667,
   "metadata": {},
   "outputs": [
    {
     "data": {
      "text/plain": [
       "'10 words with largest increase in mean ratings:'"
      ]
     },
     "metadata": {},
     "output_type": "display_data"
    },
    {
     "data": {
      "text/html": [
       "<div>\n",
       "<style scoped>\n",
       "    .dataframe tbody tr th:only-of-type {\n",
       "        vertical-align: middle;\n",
       "    }\n",
       "\n",
       "    .dataframe tbody tr th {\n",
       "        vertical-align: top;\n",
       "    }\n",
       "\n",
       "    .dataframe thead th {\n",
       "        text-align: right;\n",
       "    }\n",
       "</style>\n",
       "<table border=\"1\" class=\"dataframe\">\n",
       "  <thead>\n",
       "    <tr style=\"text-align: right;\">\n",
       "      <th></th>\n",
       "      <th>word</th>\n",
       "      <th>diff_avg</th>\n",
       "    </tr>\n",
       "  </thead>\n",
       "  <tbody>\n",
       "    <tr>\n",
       "      <th>341</th>\n",
       "      <td>radio</td>\n",
       "      <td>1.763794</td>\n",
       "    </tr>\n",
       "    <tr>\n",
       "      <th>340</th>\n",
       "      <td>coworker</td>\n",
       "      <td>1.534592</td>\n",
       "    </tr>\n",
       "    <tr>\n",
       "      <th>339</th>\n",
       "      <td>levoxyl</td>\n",
       "      <td>1.409158</td>\n",
       "    </tr>\n",
       "    <tr>\n",
       "      <th>338</th>\n",
       "      <td>aspergers</td>\n",
       "      <td>1.399081</td>\n",
       "    </tr>\n",
       "    <tr>\n",
       "      <th>337</th>\n",
       "      <td>laminectomy</td>\n",
       "      <td>1.387501</td>\n",
       "    </tr>\n",
       "    <tr>\n",
       "      <th>336</th>\n",
       "      <td>loaded</td>\n",
       "      <td>1.371777</td>\n",
       "    </tr>\n",
       "    <tr>\n",
       "      <th>335</th>\n",
       "      <td>managable</td>\n",
       "      <td>1.368772</td>\n",
       "    </tr>\n",
       "    <tr>\n",
       "      <th>334</th>\n",
       "      <td>epileptic</td>\n",
       "      <td>1.366272</td>\n",
       "    </tr>\n",
       "    <tr>\n",
       "      <th>333</th>\n",
       "      <td>simplest</td>\n",
       "      <td>1.360792</td>\n",
       "    </tr>\n",
       "    <tr>\n",
       "      <th>332</th>\n",
       "      <td>natazia</td>\n",
       "      <td>1.332585</td>\n",
       "    </tr>\n",
       "  </tbody>\n",
       "</table>\n",
       "</div>"
      ],
      "text/plain": [
       "            word  diff_avg\n",
       "341        radio  1.763794\n",
       "340     coworker  1.534592\n",
       "339      levoxyl  1.409158\n",
       "338    aspergers  1.399081\n",
       "337  laminectomy  1.387501\n",
       "336       loaded  1.371777\n",
       "335    managable  1.368772\n",
       "334    epileptic  1.366272\n",
       "333     simplest  1.360792\n",
       "332      natazia  1.332585"
      ]
     },
     "metadata": {},
     "output_type": "display_data"
    }
   ],
   "source": [
    "# display 10 words with largest average increase\n",
    "top_diff_avg_terms = pd.DataFrame(diff_avg_term, columns=['word', 'diff_avg'])\n",
    "top_diff_avg_terms = top_diff_avg_terms.sort_values('diff_avg', ascending=False)[:10]\n",
    "display('10 words with largest increase in mean ratings:', top_diff_avg_terms)"
   ]
  },
  {
   "cell_type": "code",
   "execution_count": 669,
   "metadata": {},
   "outputs": [
    {
     "data": {
      "text/plain": [
       "'10 words with largest decrease in mean ratings:'"
      ]
     },
     "metadata": {},
     "output_type": "display_data"
    },
    {
     "data": {
      "text/html": [
       "<div>\n",
       "<style scoped>\n",
       "    .dataframe tbody tr th:only-of-type {\n",
       "        vertical-align: middle;\n",
       "    }\n",
       "\n",
       "    .dataframe tbody tr th {\n",
       "        vertical-align: top;\n",
       "    }\n",
       "\n",
       "    .dataframe thead th {\n",
       "        text-align: right;\n",
       "    }\n",
       "</style>\n",
       "<table border=\"1\" class=\"dataframe\">\n",
       "  <thead>\n",
       "    <tr style=\"text-align: right;\">\n",
       "      <th></th>\n",
       "      <th>word</th>\n",
       "      <th>diff_avg</th>\n",
       "    </tr>\n",
       "  </thead>\n",
       "  <tbody>\n",
       "    <tr>\n",
       "      <th>0</th>\n",
       "      <td>moist</td>\n",
       "      <td>-2.147107</td>\n",
       "    </tr>\n",
       "    <tr>\n",
       "      <th>1</th>\n",
       "      <td>consists</td>\n",
       "      <td>-1.495447</td>\n",
       "    </tr>\n",
       "    <tr>\n",
       "      <th>2</th>\n",
       "      <td>separation</td>\n",
       "      <td>-1.481187</td>\n",
       "    </tr>\n",
       "    <tr>\n",
       "      <th>3</th>\n",
       "      <td>tumour</td>\n",
       "      <td>-1.432935</td>\n",
       "    </tr>\n",
       "    <tr>\n",
       "      <th>4</th>\n",
       "      <td>wire</td>\n",
       "      <td>-1.432935</td>\n",
       "    </tr>\n",
       "    <tr>\n",
       "      <th>5</th>\n",
       "      <td>meanwhile</td>\n",
       "      <td>-1.427359</td>\n",
       "    </tr>\n",
       "    <tr>\n",
       "      <th>6</th>\n",
       "      <td>prednisolone</td>\n",
       "      <td>-1.401679</td>\n",
       "    </tr>\n",
       "    <tr>\n",
       "      <th>7</th>\n",
       "      <td>manufactured</td>\n",
       "      <td>-1.395454</td>\n",
       "    </tr>\n",
       "    <tr>\n",
       "      <th>8</th>\n",
       "      <td>fasciitis</td>\n",
       "      <td>-1.389374</td>\n",
       "    </tr>\n",
       "    <tr>\n",
       "      <th>9</th>\n",
       "      <td>compressed</td>\n",
       "      <td>-1.337571</td>\n",
       "    </tr>\n",
       "  </tbody>\n",
       "</table>\n",
       "</div>"
      ],
      "text/plain": [
       "           word  diff_avg\n",
       "0         moist -2.147107\n",
       "1      consists -1.495447\n",
       "2    separation -1.481187\n",
       "3        tumour -1.432935\n",
       "4          wire -1.432935\n",
       "5     meanwhile -1.427359\n",
       "6  prednisolone -1.401679\n",
       "7  manufactured -1.395454\n",
       "8     fasciitis -1.389374\n",
       "9    compressed -1.337571"
      ]
     },
     "metadata": {},
     "output_type": "display_data"
    }
   ],
   "source": [
    "# display 10 words with largest average decrease\n",
    "bottom_diff_avg_terms = pd.DataFrame(diff_avg_term, columns=['word', 'diff_avg'])\n",
    "bottom_diff_avg_terms = bottom_diff_avg_terms.sort_values('diff_avg', ascending=True)[:10]\n",
    "display('10 words with largest decrease in mean ratings:', bottom_diff_avg_terms)"
   ]
  },
  {
   "cell_type": "code",
   "execution_count": 671,
   "metadata": {},
   "outputs": [
    {
     "data": {
      "image/png": "[encoded data removed]",
      "text/plain": [
       "<Figure size 432x288 with 1 Axes>"
      ]
     },
     "metadata": {
      "needs_background": "light"
     },
     "output_type": "display_data"
    }
   ],
   "source": [
    "# plot distribution of average difference\n",
    "diff_avgs = [i[1] for i in diff_avg_term]\n",
    "\n",
    "plt.hist(diff_avgs, bins=10)\n",
    "plt.xlabel('Avg. Difference (Rating)')\n",
    "plt.ylabel('# of Words')\n",
    "plt.title('Distribution of Avg. Difference of Rating by Word')\n",
    "plt.show()"
   ]
  }
 ],
 "metadata": {
  "kernelspec": {
   "display_name": "Python 3",
   "language": "python",
   "name": "python3"
  },
  "language_info": {
   "codemirror_mode": {
    "name": "ipython",
    "version": 3
   },
   "file_extension": ".py",
   "mimetype": "text/x-python",
   "name": "python",
   "nbconvert_exporter": "python",
   "pygments_lexer": "ipython3",
   "version": "3.7.4"
  }
 },
 "nbformat": 4,
 "nbformat_minor": 4
}
