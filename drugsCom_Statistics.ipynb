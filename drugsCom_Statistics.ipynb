{
 "cells": [
  {
   "cell_type": "markdown",
   "metadata": {},
   "source": [
    "# Statistical Analysis\n",
    "\n",
    "## Overview\n",
    "My goal in this analysis was to build upon my [initial EDA](https://github.com/lucasmybrotha/Predict-Ratings-for-Drug-Reviews/blob/master/drugsCom_DataStorytelling.ipynb) with more in depth analysis of features. I evaluated statistically significant correlations and average differences in rating for the following features.\n",
    "- Review length\n",
    "- Drug name\n",
    "- Condition\n",
    "- Review text\n",
    "\n",
    "Columns and column descriptions for the 'data' dataframe are listed below. The 'term_matrix' dataframe is a document-term matrix with a column for each word, row for each review, and word frequency counts as values.\n",
    "\n",
    "| Column Name | Description |\n",
    "| :--- | :--- |\n",
    "| userID | Anonymous user ID |\n",
    "| drugName | Name of drug reviewed |\n",
    "| condition | Condition drug was used for |\n",
    "| review | Review text |\n",
    "| rating | Rating from 1 to 10 |\n",
    "| date | Date of review |\n",
    "| usefulCount | Number of times voted as useful by viewers |\n",
    "| character_count | Number of characters in review text |\n",
    "| word_count | Number of words in review text |\n",
    "| clean_review | Review text cleaned and pre-processed |"
   ]
  },
  {
   "cell_type": "markdown",
   "metadata": {},
   "source": [
    "## Import\n",
    "I imported libraries that will be used along with data from previous steps."
   ]
  },
  {
   "cell_type": "code",
   "execution_count": 15,
   "metadata": {},
   "outputs": [],
   "source": [
    "# import libraries\n",
    "import numpy as np\n",
    "import pandas as pd\n",
    "\n",
    "from scipy import stats\n",
    "from scipy.sparse import load_npz\n",
    "import pickle\n",
    "\n",
    "# visualization libraries\n",
    "import matplotlib.pyplot as plt\n",
    "import seaborn as sns\n",
    "\n",
    "from collections import Counter"
   ]
  },
  {
   "cell_type": "code",
   "execution_count": 16,
   "metadata": {},
   "outputs": [],
   "source": [
    "# import dataset\n",
    "data = pd.read_pickle('drugsCom_data')"
   ]
  },
  {
   "cell_type": "code",
   "execution_count": 264,
   "metadata": {},
   "outputs": [
    {
     "data": {
      "text/html": [
       "<div>\n",
       "<style scoped>\n",
       "    .dataframe tbody tr th:only-of-type {\n",
       "        vertical-align: middle;\n",
       "    }\n",
       "\n",
       "    .dataframe tbody tr th {\n",
       "        vertical-align: top;\n",
       "    }\n",
       "\n",
       "    .dataframe thead th {\n",
       "        text-align: right;\n",
       "    }\n",
       "</style>\n",
       "<table border=\"1\" class=\"dataframe\">\n",
       "  <thead>\n",
       "    <tr style=\"text-align: right;\">\n",
       "      <th></th>\n",
       "      <th>userID</th>\n",
       "      <th>drugName</th>\n",
       "      <th>condition</th>\n",
       "      <th>review</th>\n",
       "      <th>rating</th>\n",
       "      <th>date</th>\n",
       "      <th>usefulCount</th>\n",
       "      <th>character_count</th>\n",
       "      <th>word_count</th>\n",
       "      <th>clean_review</th>\n",
       "    </tr>\n",
       "  </thead>\n",
       "  <tbody>\n",
       "    <tr>\n",
       "      <th>0</th>\n",
       "      <td>206461</td>\n",
       "      <td>Valsartan</td>\n",
       "      <td>Left Ventricular Dysfunction</td>\n",
       "      <td>\"It has no side effect, I take it in combinati...</td>\n",
       "      <td>9.0</td>\n",
       "      <td>May 20, 2012</td>\n",
       "      <td>27</td>\n",
       "      <td>79</td>\n",
       "      <td>17</td>\n",
       "      <td>combination bystolic mg fish oil</td>\n",
       "    </tr>\n",
       "    <tr>\n",
       "      <th>1</th>\n",
       "      <td>95260</td>\n",
       "      <td>Guanfacine</td>\n",
       "      <td>ADHD</td>\n",
       "      <td>\"My son is halfway through his fourth week of ...</td>\n",
       "      <td>8.0</td>\n",
       "      <td>April 27, 2010</td>\n",
       "      <td>192</td>\n",
       "      <td>741</td>\n",
       "      <td>141</td>\n",
       "      <td>son halfway fourth intuniv became concerned be...</td>\n",
       "    </tr>\n",
       "    <tr>\n",
       "      <th>2</th>\n",
       "      <td>92703</td>\n",
       "      <td>Lybrel</td>\n",
       "      <td>Birth Control</td>\n",
       "      <td>\"I used to take another oral contraceptive, wh...</td>\n",
       "      <td>5.0</td>\n",
       "      <td>December 14, 2009</td>\n",
       "      <td>17</td>\n",
       "      <td>755</td>\n",
       "      <td>133</td>\n",
       "      <td>used another oral contraceptive pill cycle hap...</td>\n",
       "    </tr>\n",
       "    <tr>\n",
       "      <th>3</th>\n",
       "      <td>138000</td>\n",
       "      <td>Ortho Evra</td>\n",
       "      <td>Birth Control</td>\n",
       "      <td>\"This is my first time using any form of birth...</td>\n",
       "      <td>8.0</td>\n",
       "      <td>November 3, 2015</td>\n",
       "      <td>10</td>\n",
       "      <td>448</td>\n",
       "      <td>89</td>\n",
       "      <td>first using form birth control glad went patch...</td>\n",
       "    </tr>\n",
       "    <tr>\n",
       "      <th>4</th>\n",
       "      <td>35696</td>\n",
       "      <td>Buprenorphine / naloxone</td>\n",
       "      <td>Opiate Dependence</td>\n",
       "      <td>\"Suboxone has completely turned my life around...</td>\n",
       "      <td>9.0</td>\n",
       "      <td>November 27, 2016</td>\n",
       "      <td>37</td>\n",
       "      <td>719</td>\n",
       "      <td>134</td>\n",
       "      <td>suboxone completely turned life around feel he...</td>\n",
       "    </tr>\n",
       "  </tbody>\n",
       "</table>\n",
       "</div>"
      ],
      "text/plain": [
       "   userID                  drugName                     condition  \\\n",
       "0  206461                 Valsartan  Left Ventricular Dysfunction   \n",
       "1   95260                Guanfacine                          ADHD   \n",
       "2   92703                    Lybrel                 Birth Control   \n",
       "3  138000                Ortho Evra                 Birth Control   \n",
       "4   35696  Buprenorphine / naloxone             Opiate Dependence   \n",
       "\n",
       "                                              review  rating  \\\n",
       "0  \"It has no side effect, I take it in combinati...     9.0   \n",
       "1  \"My son is halfway through his fourth week of ...     8.0   \n",
       "2  \"I used to take another oral contraceptive, wh...     5.0   \n",
       "3  \"This is my first time using any form of birth...     8.0   \n",
       "4  \"Suboxone has completely turned my life around...     9.0   \n",
       "\n",
       "                date  usefulCount  character_count  word_count  \\\n",
       "0       May 20, 2012           27               79          17   \n",
       "1     April 27, 2010          192              741         141   \n",
       "2  December 14, 2009           17              755         133   \n",
       "3   November 3, 2015           10              448          89   \n",
       "4  November 27, 2016           37              719         134   \n",
       "\n",
       "                                        clean_review  \n",
       "0                   combination bystolic mg fish oil  \n",
       "1  son halfway fourth intuniv became concerned be...  \n",
       "2  used another oral contraceptive pill cycle hap...  \n",
       "3  first using form birth control glad went patch...  \n",
       "4  suboxone completely turned life around feel he...  "
      ]
     },
     "execution_count": 264,
     "metadata": {},
     "output_type": "execute_result"
    }
   ],
   "source": [
    "data.head()"
   ]
  },
  {
   "cell_type": "code",
   "execution_count": 17,
   "metadata": {},
   "outputs": [],
   "source": [
    "# import sparse matrix\n",
    "from scipy.sparse import load_npz\n",
    "\n",
    "term_matrix = load_npz('ngram_csr.npz')\n",
    "\n",
    "# convert back to dataframe\n",
    "term_matrix = pd.DataFrame(term_matrix.todense())"
   ]
  },
  {
   "cell_type": "code",
   "execution_count": 18,
   "metadata": {},
   "outputs": [],
   "source": [
    "# import column headers for dataframe\n",
    "import pickle\n",
    "\n",
    "pickle_in = open('list.pickle', 'rb')\n",
    "reviews_columns = pickle.load(pickle_in)\n",
    "\n",
    "# add column headers back to dataframe\n",
    "term_matrix.columns = reviews_columns"
   ]
  },
  {
   "cell_type": "code",
   "execution_count": 19,
   "metadata": {},
   "outputs": [],
   "source": [
    "# add ratings back to the matrix to allow filtering\n",
    "term_matrix['rating'] = data['rating']"
   ]
  },
  {
   "cell_type": "code",
   "execution_count": 20,
   "metadata": {},
   "outputs": [],
   "source": [
    "term_matrix = term_matrix.dropna()"
   ]
  },
  {
   "cell_type": "code",
   "execution_count": 21,
   "metadata": {},
   "outputs": [
    {
     "data": {
      "text/html": [
       "<div>\n",
       "<style scoped>\n",
       "    .dataframe tbody tr th:only-of-type {\n",
       "        vertical-align: middle;\n",
       "    }\n",
       "\n",
       "    .dataframe tbody tr th {\n",
       "        vertical-align: top;\n",
       "    }\n",
       "\n",
       "    .dataframe thead th {\n",
       "        text-align: right;\n",
       "    }\n",
       "</style>\n",
       "<table border=\"1\" class=\"dataframe\">\n",
       "  <thead>\n",
       "    <tr style=\"text-align: right;\">\n",
       "      <th></th>\n",
       "      <th>userID</th>\n",
       "      <th>drugName</th>\n",
       "      <th>condition</th>\n",
       "      <th>review</th>\n",
       "      <th>rating</th>\n",
       "      <th>date</th>\n",
       "      <th>usefulCount</th>\n",
       "      <th>character_count</th>\n",
       "      <th>word_count</th>\n",
       "      <th>clean_review</th>\n",
       "    </tr>\n",
       "  </thead>\n",
       "  <tbody>\n",
       "    <tr>\n",
       "      <th>0</th>\n",
       "      <td>206461</td>\n",
       "      <td>Valsartan</td>\n",
       "      <td>Left Ventricular Dysfunction</td>\n",
       "      <td>\"It has no side effect, I take it in combinati...</td>\n",
       "      <td>9.0</td>\n",
       "      <td>May 20, 2012</td>\n",
       "      <td>27</td>\n",
       "      <td>79</td>\n",
       "      <td>17</td>\n",
       "      <td>combination bystolic mg fish oil</td>\n",
       "    </tr>\n",
       "    <tr>\n",
       "      <th>1</th>\n",
       "      <td>95260</td>\n",
       "      <td>Guanfacine</td>\n",
       "      <td>ADHD</td>\n",
       "      <td>\"My son is halfway through his fourth week of ...</td>\n",
       "      <td>8.0</td>\n",
       "      <td>April 27, 2010</td>\n",
       "      <td>192</td>\n",
       "      <td>741</td>\n",
       "      <td>141</td>\n",
       "      <td>son halfway fourth intuniv became concerned be...</td>\n",
       "    </tr>\n",
       "    <tr>\n",
       "      <th>2</th>\n",
       "      <td>92703</td>\n",
       "      <td>Lybrel</td>\n",
       "      <td>Birth Control</td>\n",
       "      <td>\"I used to take another oral contraceptive, wh...</td>\n",
       "      <td>5.0</td>\n",
       "      <td>December 14, 2009</td>\n",
       "      <td>17</td>\n",
       "      <td>755</td>\n",
       "      <td>133</td>\n",
       "      <td>used another oral contraceptive pill cycle hap...</td>\n",
       "    </tr>\n",
       "  </tbody>\n",
       "</table>\n",
       "</div>"
      ],
      "text/plain": [
       "   userID    drugName                     condition  \\\n",
       "0  206461   Valsartan  Left Ventricular Dysfunction   \n",
       "1   95260  Guanfacine                          ADHD   \n",
       "2   92703      Lybrel                 Birth Control   \n",
       "\n",
       "                                              review  rating  \\\n",
       "0  \"It has no side effect, I take it in combinati...     9.0   \n",
       "1  \"My son is halfway through his fourth week of ...     8.0   \n",
       "2  \"I used to take another oral contraceptive, wh...     5.0   \n",
       "\n",
       "                date  usefulCount  character_count  word_count  \\\n",
       "0       May 20, 2012           27               79          17   \n",
       "1     April 27, 2010          192              741         141   \n",
       "2  December 14, 2009           17              755         133   \n",
       "\n",
       "                                        clean_review  \n",
       "0                   combination bystolic mg fish oil  \n",
       "1  son halfway fourth intuniv became concerned be...  \n",
       "2  used another oral contraceptive pill cycle hap...  "
      ]
     },
     "execution_count": 21,
     "metadata": {},
     "output_type": "execute_result"
    }
   ],
   "source": [
    "data.head(3)"
   ]
  },
  {
   "cell_type": "markdown",
   "metadata": {},
   "source": [
    "## Rating by Review Length"
   ]
  },
  {
   "cell_type": "markdown",
   "metadata": {},
   "source": [
    "### Visualization\n",
    "I used box plots to see if there a relationship between review length and rating could be seen. I chose to use both character count and word count calculated prior to cleaning and preprocessing the text."
   ]
  },
  {
   "cell_type": "code",
   "execution_count": 22,
   "metadata": {},
   "outputs": [
    {
     "data": {
      "image/png": "[encoded data removed]",
      "text/plain": [
       "<Figure size 432x288 with 1 Axes>"
      ]
     },
     "metadata": {
      "needs_background": "light"
     },
     "output_type": "display_data"
    },
    {
     "data": {
      "image/png": "[encoded data removed]",
      "text/plain": [
       "<Figure size 432x288 with 1 Axes>"
      ]
     },
     "metadata": {
      "needs_background": "light"
     },
     "output_type": "display_data"
    }
   ],
   "source": [
    "sns.set_palette('pastel')\n",
    "\n",
    "# boxplot of character count vs. rating\n",
    "_ = sns.boxplot(x='rating', y='character_count', data=data)\n",
    "_ = plt.title('Rating by Character Count')\n",
    "_ = plt.xlabel('rating')\n",
    "_ = plt.ylabel('character count')\n",
    "_ = plt.ylim(0,1500)\n",
    "plt.show()\n",
    "\n",
    "# boxplot of word count vs. rating\n",
    "_ = sns.boxplot(x='rating', y='word_count', data=data)\n",
    "_ = plt.title('Rating by Word Count')\n",
    "_ = plt.xlabel('rating')\n",
    "_ = plt.ylabel('word count')\n",
    "_ = plt.ylim(0,300)\n",
    "plt.show()"
   ]
  },
  {
   "cell_type": "markdown",
   "metadata": {},
   "source": [
    "### Significant Correlation\n",
    "There wasn't a clear relationship between review length and rating in the boxplots, so I wanted to take a more quantitative approach.\n",
    "\n",
    "My null hypothesis was that there was not a correlation (i.e. correlation coefficient was zero). My alternative hypothesis was that there was a correlation (i.e. correlation coefficient was not zero).\n",
    "\n",
    "An alpha (p-value) of 0.05 was used to determine statistical significance."
   ]
  },
  {
   "cell_type": "markdown",
   "metadata": {},
   "source": [
    "#### Word Count\n",
    "\n",
    "With a p-value less than our alpha of 0.05, word count did have a statistically significant correlation with rating, but the correlation was very weak. The correlation coefficient was about 0.027."
   ]
  },
  {
   "cell_type": "code",
   "execution_count": 62,
   "metadata": {},
   "outputs": [
    {
     "name": "stdout",
     "output_type": "stream",
     "text": [
      "Correlation coefficent: 0.0267\n",
      "P-value: 9.533e-27\n"
     ]
    }
   ],
   "source": [
    "# calculate perason correlation coefficient and p-value\n",
    "corr_coeff, p = stats.pearsonr(data.rating, data.word_count)\n",
    "\n",
    "# print correlation coefficient\n",
    "print(f'Correlation coefficent: {corr_coeff:.4f}')\n",
    "print(f'P-value: {p:.4}')"
   ]
  },
  {
   "cell_type": "markdown",
   "metadata": {},
   "source": [
    "#### Character Count\n",
    "Character count also had a statistically significant correlation, but a very weak one. The correlation coefficient between character count and rating was about 0.021."
   ]
  },
  {
   "cell_type": "code",
   "execution_count": 64,
   "metadata": {},
   "outputs": [
    {
     "name": "stdout",
     "output_type": "stream",
     "text": [
      "Correlation coefficent: 0.0211\n",
      "P-value: 2.66e-17\n"
     ]
    }
   ],
   "source": [
    "# calculate perason correlation coefficient and p-value\n",
    "corr_coeff, p = stats.pearsonr(data.rating, data.character_count)\n",
    "\n",
    "# print correlation coefficient\n",
    "print(f'Correlation coefficent: {corr_coeff:.4f}')\n",
    "print(f'P-value: {p:.4}')"
   ]
  },
  {
   "cell_type": "markdown",
   "metadata": {},
   "source": [
    "## Rating by Drug Name"
   ]
  },
  {
   "cell_type": "markdown",
   "metadata": {},
   "source": [
    "To minimize outliers or drugs with a small sample size, I filtered out drugs that appeared less than 50 times."
   ]
  },
  {
   "cell_type": "code",
   "execution_count": 167,
   "metadata": {},
   "outputs": [],
   "source": [
    "# only include drugs that have at least 50 reviews\n",
    "drug_names = data.drugName.unique()\n",
    "drug_counts = np.array([(i, data.drugName[data.drugName == i].count()) for i in drug_names])\n",
    "drug_names_50 = [i[0] for i in drug_counts if i[1] >= '50']"
   ]
  },
  {
   "cell_type": "markdown",
   "metadata": {},
   "source": [
    "### T-Test for Statistically Significant Avg. Difference\n",
    "I used a t-test to determine which drugs had a statistically significant effect on average rating.\n",
    "\n",
    "My null hypothesis was that there was no difference between the average rating with and without the chosen drug. My alternative hypothesis was that there was a difference between rating with and without the chosen drug.\n",
    "\n",
    "I used an alpha (p-value) of 0.5 and ran the t-test on each drug that appeared at least 50 times in the data."
   ]
  },
  {
   "cell_type": "code",
   "execution_count": 168,
   "metadata": {},
   "outputs": [],
   "source": [
    "# set alpha for t-test\n",
    "alpha = 0.05\n",
    "\n",
    "# define function for t-test\n",
    "def ttest(data, column, value):\n",
    "    '''Function to run a t-test and return a value with its p-value.'''\n",
    "    has = data[data[column] == value].rating\n",
    "    has_not = data[data[column] != value].rating\n",
    "    t, p = stats.ttest_ind(has, has_not)\n",
    "    return p"
   ]
  },
  {
   "cell_type": "code",
   "execution_count": 169,
   "metadata": {},
   "outputs": [],
   "source": [
    "# perform t-test on ratings with and without each drug\n",
    "pvalue_drugs = [(i, ttest(data, 'drugName', i)) for i in drug_names_50]\n",
    "\n",
    "# return drugs with p-values below alpha and their p-values as an array\n",
    "sig_drugs = [(i[0], float(i[1])) for i in pvalue_drugs if float(i[1]) < alpha]\n",
    "\n",
    "# sort by p-value\n",
    "sig_drugs.sort(key=lambda x:x[1])"
   ]
  },
  {
   "cell_type": "markdown",
   "metadata": {},
   "source": [
    "### Average Difference in Rating\n",
    "After determining drugs with a significant average difference in rating, I looked at which drugs had the largest average difference."
   ]
  },
  {
   "cell_type": "code",
   "execution_count": 170,
   "metadata": {},
   "outputs": [],
   "source": [
    "def diff_avg(data, column, value):\n",
    "    \"\"\"Return difference of mean ratings with and without each drug.\"\"\"\n",
    "    has = np.mean(data[data[column] == value].rating)\n",
    "    has_not = np.mean(data[data[column] != value].rating)\n",
    "    diff = has - has_not\n",
    "    return diff"
   ]
  },
  {
   "cell_type": "code",
   "execution_count": 171,
   "metadata": {},
   "outputs": [],
   "source": [
    "# make a list of sig_drugs\n",
    "sig_drugs_list = [i[0] for i in sig_drugs]\n",
    "\n",
    "# avgerage difference of mean rating for each drug\n",
    "diff_avg_drugs = [(i, diff_avg(data, 'drugName', i)) for i in sig_drugs_list]\n",
    "\n",
    "# sort by average difference\n",
    "diff_avg_drugs.sort(key=lambda x:x[1])"
   ]
  },
  {
   "cell_type": "code",
   "execution_count": 244,
   "metadata": {},
   "outputs": [
    {
     "data": {
      "text/html": [
       "<div>\n",
       "<style scoped>\n",
       "    .dataframe tbody tr th:only-of-type {\n",
       "        vertical-align: middle;\n",
       "    }\n",
       "\n",
       "    .dataframe tbody tr th {\n",
       "        vertical-align: top;\n",
       "    }\n",
       "\n",
       "    .dataframe thead th {\n",
       "        text-align: right;\n",
       "    }\n",
       "</style>\n",
       "<table border=\"1\" class=\"dataframe\">\n",
       "  <thead>\n",
       "    <tr style=\"text-align: right;\">\n",
       "      <th></th>\n",
       "      <th>diff_avg</th>\n",
       "    </tr>\n",
       "  </thead>\n",
       "  <tbody>\n",
       "    <tr>\n",
       "      <th>count</th>\n",
       "      <td>233.000000</td>\n",
       "    </tr>\n",
       "    <tr>\n",
       "      <th>mean</th>\n",
       "      <td>0.195506</td>\n",
       "    </tr>\n",
       "    <tr>\n",
       "      <th>std</th>\n",
       "      <td>2.044604</td>\n",
       "    </tr>\n",
       "    <tr>\n",
       "      <th>min</th>\n",
       "      <td>-4.870829</td>\n",
       "    </tr>\n",
       "    <tr>\n",
       "      <th>25%</th>\n",
       "      <td>-1.382899</td>\n",
       "    </tr>\n",
       "    <tr>\n",
       "      <th>50%</th>\n",
       "      <td>0.909737</td>\n",
       "    </tr>\n",
       "    <tr>\n",
       "      <th>75%</th>\n",
       "      <td>1.870405</td>\n",
       "    </tr>\n",
       "    <tr>\n",
       "      <th>max</th>\n",
       "      <td>3.004583</td>\n",
       "    </tr>\n",
       "  </tbody>\n",
       "</table>\n",
       "</div>"
      ],
      "text/plain": [
       "         diff_avg\n",
       "count  233.000000\n",
       "mean     0.195506\n",
       "std      2.044604\n",
       "min     -4.870829\n",
       "25%     -1.382899\n",
       "50%      0.909737\n",
       "75%      1.870405\n",
       "max      3.004583"
      ]
     },
     "execution_count": 244,
     "metadata": {},
     "output_type": "execute_result"
    }
   ],
   "source": [
    "# view summary statistics about drugs with significant average difference\n",
    "diff_avg_drugs = pd.DataFrame(diff_avg_drugs, columns=['drug_name', 'diff_avg'])\n",
    "diff_avg_drugs.describe()"
   ]
  },
  {
   "cell_type": "code",
   "execution_count": 248,
   "metadata": {},
   "outputs": [
    {
     "data": {
      "text/plain": [
       "'10 drugs with largest average increase in rating:'"
      ]
     },
     "metadata": {},
     "output_type": "display_data"
    },
    {
     "data": {
      "text/html": [
       "<div>\n",
       "<style scoped>\n",
       "    .dataframe tbody tr th:only-of-type {\n",
       "        vertical-align: middle;\n",
       "    }\n",
       "\n",
       "    .dataframe tbody tr th {\n",
       "        vertical-align: top;\n",
       "    }\n",
       "\n",
       "    .dataframe thead th {\n",
       "        text-align: right;\n",
       "    }\n",
       "</style>\n",
       "<table border=\"1\" class=\"dataframe\">\n",
       "  <thead>\n",
       "    <tr style=\"text-align: right;\">\n",
       "      <th></th>\n",
       "      <th>drug_name</th>\n",
       "      <th>diff_avg</th>\n",
       "    </tr>\n",
       "  </thead>\n",
       "  <tbody>\n",
       "    <tr>\n",
       "      <th>232</th>\n",
       "      <td>Privine</td>\n",
       "      <td>3.004583</td>\n",
       "    </tr>\n",
       "    <tr>\n",
       "      <th>231</th>\n",
       "      <td>Zinc oxide</td>\n",
       "      <td>3.004564</td>\n",
       "    </tr>\n",
       "    <tr>\n",
       "      <th>230</th>\n",
       "      <td>Astelin</td>\n",
       "      <td>3.004564</td>\n",
       "    </tr>\n",
       "    <tr>\n",
       "      <th>229</th>\n",
       "      <td>Acetaminophen / pseudoephedrine</td>\n",
       "      <td>3.004545</td>\n",
       "    </tr>\n",
       "    <tr>\n",
       "      <th>228</th>\n",
       "      <td>Chlorpheniramine / phenylephrine</td>\n",
       "      <td>3.004526</td>\n",
       "    </tr>\n",
       "    <tr>\n",
       "      <th>227</th>\n",
       "      <td>Biafine</td>\n",
       "      <td>2.861682</td>\n",
       "    </tr>\n",
       "    <tr>\n",
       "      <th>226</th>\n",
       "      <td>Niravam</td>\n",
       "      <td>2.861682</td>\n",
       "    </tr>\n",
       "    <tr>\n",
       "      <th>225</th>\n",
       "      <td>Avonex Pen</td>\n",
       "      <td>2.837854</td>\n",
       "    </tr>\n",
       "    <tr>\n",
       "      <th>224</th>\n",
       "      <td>Belladonna / opium</td>\n",
       "      <td>2.837854</td>\n",
       "    </tr>\n",
       "    <tr>\n",
       "      <th>223</th>\n",
       "      <td>Primatene Mist</td>\n",
       "      <td>2.837854</td>\n",
       "    </tr>\n",
       "  </tbody>\n",
       "</table>\n",
       "</div>"
      ],
      "text/plain": [
       "                            drug_name  diff_avg\n",
       "232                           Privine  3.004583\n",
       "231                        Zinc oxide  3.004564\n",
       "230                           Astelin  3.004564\n",
       "229   Acetaminophen / pseudoephedrine  3.004545\n",
       "228  Chlorpheniramine / phenylephrine  3.004526\n",
       "227                           Biafine  2.861682\n",
       "226                           Niravam  2.861682\n",
       "225                        Avonex Pen  2.837854\n",
       "224                Belladonna / opium  2.837854\n",
       "223                    Primatene Mist  2.837854"
      ]
     },
     "metadata": {},
     "output_type": "display_data"
    }
   ],
   "source": [
    "# 10 drugs with largest average increase\n",
    "top_diff_avg_drugs = diff_avg_drugs.sort_values('diff_avg', ascending=False)[:10]\n",
    "display('10 drugs with largest average increase in rating:', top_diff_avg_drugs)"
   ]
  },
  {
   "cell_type": "code",
   "execution_count": 251,
   "metadata": {},
   "outputs": [
    {
     "data": {
      "text/plain": [
       "'10 drugs with largest average decrease in rating:'"
      ]
     },
     "metadata": {},
     "output_type": "display_data"
    },
    {
     "data": {
      "text/html": [
       "<div>\n",
       "<style scoped>\n",
       "    .dataframe tbody tr th:only-of-type {\n",
       "        vertical-align: middle;\n",
       "    }\n",
       "\n",
       "    .dataframe tbody tr th {\n",
       "        vertical-align: top;\n",
       "    }\n",
       "\n",
       "    .dataframe thead th {\n",
       "        text-align: right;\n",
       "    }\n",
       "</style>\n",
       "<table border=\"1\" class=\"dataframe\">\n",
       "  <thead>\n",
       "    <tr style=\"text-align: right;\">\n",
       "      <th></th>\n",
       "      <th>drug_name</th>\n",
       "      <th>diff_avg</th>\n",
       "    </tr>\n",
       "  </thead>\n",
       "  <tbody>\n",
       "    <tr>\n",
       "      <th>0</th>\n",
       "      <td>Systane</td>\n",
       "      <td>-4.870829</td>\n",
       "    </tr>\n",
       "    <tr>\n",
       "      <th>1</th>\n",
       "      <td>Succinylcholine</td>\n",
       "      <td>-4.620816</td>\n",
       "    </tr>\n",
       "    <tr>\n",
       "      <th>2</th>\n",
       "      <td>Trimethoprim</td>\n",
       "      <td>-4.245798</td>\n",
       "    </tr>\n",
       "    <tr>\n",
       "      <th>3</th>\n",
       "      <td>Chloraseptic Sore Throat Spray</td>\n",
       "      <td>-3.995760</td>\n",
       "    </tr>\n",
       "    <tr>\n",
       "      <th>4</th>\n",
       "      <td>Monistat 7</td>\n",
       "      <td>-3.964860</td>\n",
       "    </tr>\n",
       "    <tr>\n",
       "      <th>5</th>\n",
       "      <td>Blisovi 24 Fe</td>\n",
       "      <td>-3.885382</td>\n",
       "    </tr>\n",
       "    <tr>\n",
       "      <th>6</th>\n",
       "      <td>Rhofade</td>\n",
       "      <td>-3.773575</td>\n",
       "    </tr>\n",
       "    <tr>\n",
       "      <th>7</th>\n",
       "      <td>Influenza virus vaccine, live, trivalent</td>\n",
       "      <td>-3.662458</td>\n",
       "    </tr>\n",
       "    <tr>\n",
       "      <th>8</th>\n",
       "      <td>Delsym</td>\n",
       "      <td>-3.509837</td>\n",
       "    </tr>\n",
       "    <tr>\n",
       "      <th>9</th>\n",
       "      <td>Estradiol Patch</td>\n",
       "      <td>-3.440223</td>\n",
       "    </tr>\n",
       "  </tbody>\n",
       "</table>\n",
       "</div>"
      ],
      "text/plain": [
       "                                  drug_name  diff_avg\n",
       "0                                   Systane -4.870829\n",
       "1                           Succinylcholine -4.620816\n",
       "2                              Trimethoprim -4.245798\n",
       "3            Chloraseptic Sore Throat Spray -3.995760\n",
       "4                                Monistat 7 -3.964860\n",
       "5                             Blisovi 24 Fe -3.885382\n",
       "6                                   Rhofade -3.773575\n",
       "7  Influenza virus vaccine, live, trivalent -3.662458\n",
       "8                                    Delsym -3.509837\n",
       "9                           Estradiol Patch -3.440223"
      ]
     },
     "metadata": {},
     "output_type": "display_data"
    }
   ],
   "source": [
    "# display 10 drugs with largest average decrease\n",
    "bottom_diff_avg_drugs = diff_avg_drugs.sort_values('diff_avg', ascending=True)[:10]\n",
    "display('10 drugs with largest average decrease in rating:', bottom_diff_avg_drugs)"
   ]
  },
  {
   "cell_type": "code",
   "execution_count": 252,
   "metadata": {},
   "outputs": [
    {
     "data": {
      "image/png": "[encoded data removed]",
      "text/plain": [
       "<Figure size 432x288 with 1 Axes>"
      ]
     },
     "metadata": {
      "needs_background": "light"
     },
     "output_type": "display_data"
    }
   ],
   "source": [
    "# plot distribution of average difference\n",
    "#diff_avgs = [i[1] for i in diff_avg_drugs]\n",
    "\n",
    "sns.distplot(diff_avg_drugs['diff_avg'], bins=10, kde=False)\n",
    "plt.xlabel('Avg. Difference (Rating)')\n",
    "plt.ylabel('# of Drugs')\n",
    "plt.title('Distribution of Avg. Difference of Rating by Drug')\n",
    "plt.show()"
   ]
  },
  {
   "cell_type": "markdown",
   "metadata": {},
   "source": [
    "## Rating by Condition"
   ]
  },
  {
   "cell_type": "markdown",
   "metadata": {},
   "source": [
    "To help minimize outliers and conditions with a small sample size I filtered out conditions that appeared less than 50 times in the data."
   ]
  },
  {
   "cell_type": "code",
   "execution_count": 178,
   "metadata": {},
   "outputs": [],
   "source": [
    "# only include conditions that have at least 50 reviews\n",
    "condition_names = data.condition.unique()\n",
    "condition_counts = np.array([(i, data.condition[data.condition == i].count()) for i in condition_names])\n",
    "condition_names_50 = [i[0] for i in condition_counts if i[1] >= '50']"
   ]
  },
  {
   "cell_type": "markdown",
   "metadata": {},
   "source": [
    "### T-Test for Statistically Significant Avg. Difference\n",
    "Again, t-test was used to determine which conditions had a statistically significant effect on average difference of rating.\n",
    "\n",
    "My null hypothesis was that there was no difference between the average rating with and without the chosen condition. My alternative hypothesis was that there was a difference between rating with and without the chosen condition.\n",
    "\n",
    "I used an alpha (p-value) of 0.5 and ran the t-test on each condition that appeared at least 50 times in the data."
   ]
  },
  {
   "cell_type": "code",
   "execution_count": 179,
   "metadata": {},
   "outputs": [],
   "source": [
    "# set alpha for t-test\n",
    "alpha = 0.05"
   ]
  },
  {
   "cell_type": "code",
   "execution_count": 180,
   "metadata": {},
   "outputs": [],
   "source": [
    "# perform t-test on ratings with and without each drug\n",
    "pvalue_conditions = [(i, ttest(data, 'condition', i)) for i in condition_names_50]\n",
    "\n",
    "# only include drugs with p-values below alpha\n",
    "sig_conditions = [(i[0], i[1]) for i in pvalue_conditions if float(i[1]) < alpha]\n",
    "\n",
    "# sort\n",
    "sig_conditions.sort(key=lambda x: x[1])"
   ]
  },
  {
   "cell_type": "markdown",
   "metadata": {},
   "source": [
    "### Average Difference in Rating\n",
    "Out of the conditions with a statistically significant average difference in rating, I determined which conditions had the largest average difference."
   ]
  },
  {
   "cell_type": "code",
   "execution_count": 181,
   "metadata": {},
   "outputs": [],
   "source": [
    "# make a list of sig_drugs\n",
    "sig_conditions_list = [i[0] for i in sig_conditions]\n",
    "\n",
    "# avgerage difference of mean rating for each drug\n",
    "diff_avg_conditions = [(i, diff_avg(data, 'condition', i)) for i in sig_conditions_list]\n",
    "\n",
    "# sort by average difference\n",
    "diff_avg_conditions.sort(key=lambda x:x[1])"
   ]
  },
  {
   "cell_type": "code",
   "execution_count": 253,
   "metadata": {},
   "outputs": [
    {
     "data": {
      "text/html": [
       "<div>\n",
       "<style scoped>\n",
       "    .dataframe tbody tr th:only-of-type {\n",
       "        vertical-align: middle;\n",
       "    }\n",
       "\n",
       "    .dataframe tbody tr th {\n",
       "        vertical-align: top;\n",
       "    }\n",
       "\n",
       "    .dataframe thead th {\n",
       "        text-align: right;\n",
       "    }\n",
       "</style>\n",
       "<table border=\"1\" class=\"dataframe\">\n",
       "  <thead>\n",
       "    <tr style=\"text-align: right;\">\n",
       "      <th></th>\n",
       "      <th>diff_avg</th>\n",
       "    </tr>\n",
       "  </thead>\n",
       "  <tbody>\n",
       "    <tr>\n",
       "      <th>count</th>\n",
       "      <td>75.000000</td>\n",
       "    </tr>\n",
       "    <tr>\n",
       "      <th>mean</th>\n",
       "      <td>0.558180</td>\n",
       "    </tr>\n",
       "    <tr>\n",
       "      <th>std</th>\n",
       "      <td>1.703163</td>\n",
       "    </tr>\n",
       "    <tr>\n",
       "      <th>min</th>\n",
       "      <td>-3.245748</td>\n",
       "    </tr>\n",
       "    <tr>\n",
       "      <th>25%</th>\n",
       "      <td>-0.777590</td>\n",
       "    </tr>\n",
       "    <tr>\n",
       "      <th>50%</th>\n",
       "      <td>0.877442</td>\n",
       "    </tr>\n",
       "    <tr>\n",
       "      <th>75%</th>\n",
       "      <td>1.691556</td>\n",
       "    </tr>\n",
       "    <tr>\n",
       "      <th>max</th>\n",
       "      <td>3.004583</td>\n",
       "    </tr>\n",
       "  </tbody>\n",
       "</table>\n",
       "</div>"
      ],
      "text/plain": [
       "        diff_avg\n",
       "count  75.000000\n",
       "mean    0.558180\n",
       "std     1.703163\n",
       "min    -3.245748\n",
       "25%    -0.777590\n",
       "50%     0.877442\n",
       "75%     1.691556\n",
       "max     3.004583"
      ]
     },
     "execution_count": 253,
     "metadata": {},
     "output_type": "execute_result"
    }
   ],
   "source": [
    "# view summary statistics about conditions with significant average difference\n",
    "diff_avg_conditions = pd.DataFrame(diff_avg_conditions, columns=['condition', 'diff_avg'])\n",
    "diff_avg_conditions.describe()"
   ]
  },
  {
   "cell_type": "code",
   "execution_count": 254,
   "metadata": {},
   "outputs": [
    {
     "data": {
      "text/plain": [
       "'10 conditions with largest average increase in rating:'"
      ]
     },
     "metadata": {},
     "output_type": "display_data"
    },
    {
     "data": {
      "text/html": [
       "<div>\n",
       "<style scoped>\n",
       "    .dataframe tbody tr th:only-of-type {\n",
       "        vertical-align: middle;\n",
       "    }\n",
       "\n",
       "    .dataframe tbody tr th {\n",
       "        vertical-align: top;\n",
       "    }\n",
       "\n",
       "    .dataframe thead th {\n",
       "        text-align: right;\n",
       "    }\n",
       "</style>\n",
       "<table border=\"1\" class=\"dataframe\">\n",
       "  <thead>\n",
       "    <tr style=\"text-align: right;\">\n",
       "      <th></th>\n",
       "      <th>condition</th>\n",
       "      <th>diff_avg</th>\n",
       "    </tr>\n",
       "  </thead>\n",
       "  <tbody>\n",
       "    <tr>\n",
       "      <th>74</th>\n",
       "      <td>Costochondritis</td>\n",
       "      <td>3.004583</td>\n",
       "    </tr>\n",
       "    <tr>\n",
       "      <th>73</th>\n",
       "      <td>Menopausal Disorders</td>\n",
       "      <td>3.004583</td>\n",
       "    </tr>\n",
       "    <tr>\n",
       "      <th>72</th>\n",
       "      <td>B12 Nutritional Deficiency</td>\n",
       "      <td>3.004564</td>\n",
       "    </tr>\n",
       "    <tr>\n",
       "      <th>71</th>\n",
       "      <td>von Willebrand's Disease</td>\n",
       "      <td>3.004545</td>\n",
       "    </tr>\n",
       "    <tr>\n",
       "      <th>70</th>\n",
       "      <td>Gingivitis</td>\n",
       "      <td>3.004526</td>\n",
       "    </tr>\n",
       "    <tr>\n",
       "      <th>69</th>\n",
       "      <td>NSAID-Induced Gastric Ulce</td>\n",
       "      <td>2.861682</td>\n",
       "    </tr>\n",
       "    <tr>\n",
       "      <th>68</th>\n",
       "      <td>Dumping Syndrome</td>\n",
       "      <td>2.837854</td>\n",
       "    </tr>\n",
       "    <tr>\n",
       "      <th>65</th>\n",
       "      <td>Biliary Cirrhosis</td>\n",
       "      <td>2.671181</td>\n",
       "    </tr>\n",
       "    <tr>\n",
       "      <th>64</th>\n",
       "      <td>Mucositis</td>\n",
       "      <td>2.671181</td>\n",
       "    </tr>\n",
       "    <tr>\n",
       "      <th>67</th>\n",
       "      <td>Herpes Simplex, Mucocutaneous/Immunocompromise...</td>\n",
       "      <td>2.671181</td>\n",
       "    </tr>\n",
       "  </tbody>\n",
       "</table>\n",
       "</div>"
      ],
      "text/plain": [
       "                                            condition  diff_avg\n",
       "74                                    Costochondritis  3.004583\n",
       "73                               Menopausal Disorders  3.004583\n",
       "72                         B12 Nutritional Deficiency  3.004564\n",
       "71                           von Willebrand's Disease  3.004545\n",
       "70                                         Gingivitis  3.004526\n",
       "69                         NSAID-Induced Gastric Ulce  2.861682\n",
       "68                                   Dumping Syndrome  2.837854\n",
       "65                                  Biliary Cirrhosis  2.671181\n",
       "64                                          Mucositis  2.671181\n",
       "67  Herpes Simplex, Mucocutaneous/Immunocompromise...  2.671181"
      ]
     },
     "metadata": {},
     "output_type": "display_data"
    }
   ],
   "source": [
    "# display 10 conditions with largest average increase\n",
    "top_diff_avg_conditions = diff_avg_conditions.sort_values('diff_avg', ascending=False)[:10]\n",
    "display('10 conditions with largest average increase in rating:', top_diff_avg_conditions)"
   ]
  },
  {
   "cell_type": "code",
   "execution_count": 257,
   "metadata": {},
   "outputs": [
    {
     "data": {
      "text/plain": [
       "'10 conditions with largest average decrease in rating:'"
      ]
     },
     "metadata": {},
     "output_type": "display_data"
    },
    {
     "data": {
      "text/html": [
       "<div>\n",
       "<style scoped>\n",
       "    .dataframe tbody tr th:only-of-type {\n",
       "        vertical-align: middle;\n",
       "    }\n",
       "\n",
       "    .dataframe tbody tr th {\n",
       "        vertical-align: top;\n",
       "    }\n",
       "\n",
       "    .dataframe thead th {\n",
       "        text-align: right;\n",
       "    }\n",
       "</style>\n",
       "<table border=\"1\" class=\"dataframe\">\n",
       "  <thead>\n",
       "    <tr style=\"text-align: right;\">\n",
       "      <th></th>\n",
       "      <th>condition</th>\n",
       "      <th>diff_avg</th>\n",
       "    </tr>\n",
       "  </thead>\n",
       "  <tbody>\n",
       "    <tr>\n",
       "      <th>0</th>\n",
       "      <td>Bronchospasm Prophylaxis</td>\n",
       "      <td>-3.245748</td>\n",
       "    </tr>\n",
       "    <tr>\n",
       "      <th>1</th>\n",
       "      <td>Sore Throat</td>\n",
       "      <td>-3.106871</td>\n",
       "    </tr>\n",
       "    <tr>\n",
       "      <th>2</th>\n",
       "      <td>Herpes Zoster, Prophylaxis</td>\n",
       "      <td>-2.995698</td>\n",
       "    </tr>\n",
       "    <tr>\n",
       "      <th>3</th>\n",
       "      <td>Macular Edema</td>\n",
       "      <td>-2.852853</td>\n",
       "    </tr>\n",
       "    <tr>\n",
       "      <th>4</th>\n",
       "      <td>Pancreatic Exocrine Dysfunction</td>\n",
       "      <td>-2.495710</td>\n",
       "    </tr>\n",
       "    <tr>\n",
       "      <th>5</th>\n",
       "      <td>Deep Vein Thrombosis, Recurrent Event</td>\n",
       "      <td>-2.440167</td>\n",
       "    </tr>\n",
       "    <tr>\n",
       "      <th>6</th>\n",
       "      <td>Prostatitis</td>\n",
       "      <td>-2.436529</td>\n",
       "    </tr>\n",
       "    <tr>\n",
       "      <th>8</th>\n",
       "      <td>Pelvic Inflammatory Disease</td>\n",
       "      <td>-2.217933</td>\n",
       "    </tr>\n",
       "    <tr>\n",
       "      <th>7</th>\n",
       "      <td>Body Dysmorphic Disorde</td>\n",
       "      <td>-2.217933</td>\n",
       "    </tr>\n",
       "    <tr>\n",
       "      <th>9</th>\n",
       "      <td>Keratoconjunctivitis Sicca</td>\n",
       "      <td>-1.570189</td>\n",
       "    </tr>\n",
       "  </tbody>\n",
       "</table>\n",
       "</div>"
      ],
      "text/plain": [
       "                               condition  diff_avg\n",
       "0               Bronchospasm Prophylaxis -3.245748\n",
       "1                            Sore Throat -3.106871\n",
       "2             Herpes Zoster, Prophylaxis -2.995698\n",
       "3                          Macular Edema -2.852853\n",
       "4        Pancreatic Exocrine Dysfunction -2.495710\n",
       "5  Deep Vein Thrombosis, Recurrent Event -2.440167\n",
       "6                            Prostatitis -2.436529\n",
       "8            Pelvic Inflammatory Disease -2.217933\n",
       "7                Body Dysmorphic Disorde -2.217933\n",
       "9             Keratoconjunctivitis Sicca -1.570189"
      ]
     },
     "metadata": {},
     "output_type": "display_data"
    }
   ],
   "source": [
    "# display 10 conditions with largest average decrease\n",
    "bottom_diff_avg_conditions = diff_avg_conditions.sort_values('diff_avg', ascending=True)[:10]\n",
    "display('10 conditions with largest average decrease in rating:', bottom_diff_avg_conditions)"
   ]
  },
  {
   "cell_type": "code",
   "execution_count": 256,
   "metadata": {},
   "outputs": [
    {
     "data": {
      "image/png": "[encoded data removed]",
      "text/plain": [
       "<Figure size 432x288 with 1 Axes>"
      ]
     },
     "metadata": {
      "needs_background": "light"
     },
     "output_type": "display_data"
    }
   ],
   "source": [
    "# plot distribution of average difference\n",
    "diff_avgs = [i[1] for i in diff_avg_conditions]\n",
    "\n",
    "sns.distplot(diff_avg_conditions['diff_avg'], bins=10, kde=False)\n",
    "plt.xlabel('Avg. Difference (Rating)')\n",
    "plt.ylabel('# of Conditions')\n",
    "plt.title('Distribution of Avg. Difference of Rating by Condition')\n",
    "plt.show()"
   ]
  },
  {
   "cell_type": "markdown",
   "metadata": {},
   "source": [
    "## Rating by Word"
   ]
  },
  {
   "cell_type": "code",
   "execution_count": 23,
   "metadata": {
    "scrolled": true
   },
   "outputs": [],
   "source": [
    "# create array of terms\n",
    "terms = term_matrix.columns"
   ]
  },
  {
   "cell_type": "markdown",
   "metadata": {},
   "source": [
    "### T-Test for Statistically Significant Average Difference\n",
    "I wanted to first evaluate which words had a statistically significant difference on average rating.\n",
    "\n",
    "My null hypotheses was that the difference between average ratings with and without the chosen word would be equal to zero. My alternative hypothesis was that the difference between average ratings with and without the chosen word would not be equal to zero.\n",
    "\n",
    "An alpha (p-value) of 0.05 was chosen to determine significance."
   ]
  },
  {
   "cell_type": "code",
   "execution_count": 24,
   "metadata": {},
   "outputs": [],
   "source": [
    "# set alpha\n",
    "alpha = 0.05\n",
    "\n",
    "# define function for t-test\n",
    "def ttest_term(data, term):\n",
    "    ''' Function to run a t-test on ratings with and without each term and return p-value.'''\n",
    "    has = data[data[term] > 0].rating\n",
    "    has_not = data[data[term] == 0].rating\n",
    "    t, p = stats.ttest_ind(has, has_not)\n",
    "    return p"
   ]
  },
  {
   "cell_type": "code",
   "execution_count": 25,
   "metadata": {},
   "outputs": [],
   "source": [
    "# perform t-test on ratings with and without each term\n",
    "pvalue_terms = [(i, ttest_term(term_matrix, i)) for i in terms]\n",
    "\n",
    "# only include drugs with p-values below alpha\n",
    "sig_terms = [(i[0], i[1]) for i in pvalue_terms if float(i[1]) < alpha]\n",
    "\n",
    "# sort\n",
    "sig_terms.sort(key=lambda x: x[1])"
   ]
  },
  {
   "cell_type": "markdown",
   "metadata": {},
   "source": [
    "### Average Difference\n",
    "\n",
    "After determining which words had a significant difference on average rating, I wanted to determine words with the largest significant difference on average rating."
   ]
  },
  {
   "cell_type": "code",
   "execution_count": 131,
   "metadata": {},
   "outputs": [],
   "source": [
    "def diff_avg_word(data, word):\n",
    "    \"\"\"Function to return difference of mean ratings with and without each word.\"\"\"\n",
    "    has = np.mean(data[data[word] != 0].rating)\n",
    "    has_not = np.mean(data[data[word] == 0].rating)\n",
    "    diff = has - has_not\n",
    "    return diff"
   ]
  },
  {
   "cell_type": "code",
   "execution_count": 138,
   "metadata": {},
   "outputs": [],
   "source": [
    "# extract terms with significant difference from sig_terms\n",
    "sig_term_list = [i[0] for i in sig_terms]\n",
    "\n",
    "# calculate significant average difference of mean rating for each term\n",
    "diff_avg_terms = [(i, diff_avg_word(term_matrix, i)) for i in sig_term_list]\n",
    "\n",
    "# sort by average difference\n",
    "diff_avg_terms.sort(key=lambda x:x[1])"
   ]
  },
  {
   "cell_type": "code",
   "execution_count": 258,
   "metadata": {},
   "outputs": [
    {
     "data": {
      "text/html": [
       "<div>\n",
       "<style scoped>\n",
       "    .dataframe tbody tr th:only-of-type {\n",
       "        vertical-align: middle;\n",
       "    }\n",
       "\n",
       "    .dataframe tbody tr th {\n",
       "        vertical-align: top;\n",
       "    }\n",
       "\n",
       "    .dataframe thead th {\n",
       "        text-align: right;\n",
       "    }\n",
       "</style>\n",
       "<table border=\"1\" class=\"dataframe\">\n",
       "  <thead>\n",
       "    <tr style=\"text-align: right;\">\n",
       "      <th></th>\n",
       "      <th>diff_avg</th>\n",
       "    </tr>\n",
       "  </thead>\n",
       "  <tbody>\n",
       "    <tr>\n",
       "      <th>count</th>\n",
       "      <td>342.000000</td>\n",
       "    </tr>\n",
       "    <tr>\n",
       "      <th>mean</th>\n",
       "      <td>0.039175</td>\n",
       "    </tr>\n",
       "    <tr>\n",
       "      <th>std</th>\n",
       "      <td>0.798224</td>\n",
       "    </tr>\n",
       "    <tr>\n",
       "      <th>min</th>\n",
       "      <td>-2.147107</td>\n",
       "    </tr>\n",
       "    <tr>\n",
       "      <th>25%</th>\n",
       "      <td>-0.634753</td>\n",
       "    </tr>\n",
       "    <tr>\n",
       "      <th>50%</th>\n",
       "      <td>0.132927</td>\n",
       "    </tr>\n",
       "    <tr>\n",
       "      <th>75%</th>\n",
       "      <td>0.754392</td>\n",
       "    </tr>\n",
       "    <tr>\n",
       "      <th>max</th>\n",
       "      <td>1.763794</td>\n",
       "    </tr>\n",
       "  </tbody>\n",
       "</table>\n",
       "</div>"
      ],
      "text/plain": [
       "         diff_avg\n",
       "count  342.000000\n",
       "mean     0.039175\n",
       "std      0.798224\n",
       "min     -2.147107\n",
       "25%     -0.634753\n",
       "50%      0.132927\n",
       "75%      0.754392\n",
       "max      1.763794"
      ]
     },
     "execution_count": 258,
     "metadata": {},
     "output_type": "execute_result"
    }
   ],
   "source": [
    "# view summary statistics about conditions with significant average difference\n",
    "diff_avg_terms = pd.DataFrame(diff_avg_terms, columns=['word', 'diff_avg'])\n",
    "diff_avg_terms.describe()"
   ]
  },
  {
   "cell_type": "code",
   "execution_count": 260,
   "metadata": {},
   "outputs": [
    {
     "data": {
      "text/plain": [
       "'10 words with largest average increase in rating:'"
      ]
     },
     "metadata": {},
     "output_type": "display_data"
    },
    {
     "data": {
      "text/html": [
       "<div>\n",
       "<style scoped>\n",
       "    .dataframe tbody tr th:only-of-type {\n",
       "        vertical-align: middle;\n",
       "    }\n",
       "\n",
       "    .dataframe tbody tr th {\n",
       "        vertical-align: top;\n",
       "    }\n",
       "\n",
       "    .dataframe thead th {\n",
       "        text-align: right;\n",
       "    }\n",
       "</style>\n",
       "<table border=\"1\" class=\"dataframe\">\n",
       "  <thead>\n",
       "    <tr style=\"text-align: right;\">\n",
       "      <th></th>\n",
       "      <th>word</th>\n",
       "      <th>diff_avg</th>\n",
       "    </tr>\n",
       "  </thead>\n",
       "  <tbody>\n",
       "    <tr>\n",
       "      <th>341</th>\n",
       "      <td>radio</td>\n",
       "      <td>1.763794</td>\n",
       "    </tr>\n",
       "    <tr>\n",
       "      <th>340</th>\n",
       "      <td>coworker</td>\n",
       "      <td>1.534592</td>\n",
       "    </tr>\n",
       "    <tr>\n",
       "      <th>339</th>\n",
       "      <td>levoxyl</td>\n",
       "      <td>1.409158</td>\n",
       "    </tr>\n",
       "    <tr>\n",
       "      <th>338</th>\n",
       "      <td>aspergers</td>\n",
       "      <td>1.399081</td>\n",
       "    </tr>\n",
       "    <tr>\n",
       "      <th>337</th>\n",
       "      <td>laminectomy</td>\n",
       "      <td>1.387501</td>\n",
       "    </tr>\n",
       "    <tr>\n",
       "      <th>336</th>\n",
       "      <td>loaded</td>\n",
       "      <td>1.371777</td>\n",
       "    </tr>\n",
       "    <tr>\n",
       "      <th>335</th>\n",
       "      <td>managable</td>\n",
       "      <td>1.368772</td>\n",
       "    </tr>\n",
       "    <tr>\n",
       "      <th>334</th>\n",
       "      <td>epileptic</td>\n",
       "      <td>1.366272</td>\n",
       "    </tr>\n",
       "    <tr>\n",
       "      <th>333</th>\n",
       "      <td>simplest</td>\n",
       "      <td>1.360792</td>\n",
       "    </tr>\n",
       "    <tr>\n",
       "      <th>332</th>\n",
       "      <td>natazia</td>\n",
       "      <td>1.332585</td>\n",
       "    </tr>\n",
       "  </tbody>\n",
       "</table>\n",
       "</div>"
      ],
      "text/plain": [
       "            word  diff_avg\n",
       "341        radio  1.763794\n",
       "340     coworker  1.534592\n",
       "339      levoxyl  1.409158\n",
       "338    aspergers  1.399081\n",
       "337  laminectomy  1.387501\n",
       "336       loaded  1.371777\n",
       "335    managable  1.368772\n",
       "334    epileptic  1.366272\n",
       "333     simplest  1.360792\n",
       "332      natazia  1.332585"
      ]
     },
     "metadata": {},
     "output_type": "display_data"
    }
   ],
   "source": [
    "# display 10 words with largest significant average increase\n",
    "top_diff_avg_terms = diff_avg_terms.sort_values('diff_avg', ascending=False)[:10]\n",
    "display('10 words with largest average increase in rating:', top_diff_avg_terms)"
   ]
  },
  {
   "cell_type": "code",
   "execution_count": 261,
   "metadata": {},
   "outputs": [
    {
     "data": {
      "text/plain": [
       "'10 words with largest average decrease in rating:'"
      ]
     },
     "metadata": {},
     "output_type": "display_data"
    },
    {
     "data": {
      "text/html": [
       "<div>\n",
       "<style scoped>\n",
       "    .dataframe tbody tr th:only-of-type {\n",
       "        vertical-align: middle;\n",
       "    }\n",
       "\n",
       "    .dataframe tbody tr th {\n",
       "        vertical-align: top;\n",
       "    }\n",
       "\n",
       "    .dataframe thead th {\n",
       "        text-align: right;\n",
       "    }\n",
       "</style>\n",
       "<table border=\"1\" class=\"dataframe\">\n",
       "  <thead>\n",
       "    <tr style=\"text-align: right;\">\n",
       "      <th></th>\n",
       "      <th>word</th>\n",
       "      <th>diff_avg</th>\n",
       "    </tr>\n",
       "  </thead>\n",
       "  <tbody>\n",
       "    <tr>\n",
       "      <th>0</th>\n",
       "      <td>moist</td>\n",
       "      <td>-2.147107</td>\n",
       "    </tr>\n",
       "    <tr>\n",
       "      <th>1</th>\n",
       "      <td>consists</td>\n",
       "      <td>-1.495447</td>\n",
       "    </tr>\n",
       "    <tr>\n",
       "      <th>2</th>\n",
       "      <td>separation</td>\n",
       "      <td>-1.481187</td>\n",
       "    </tr>\n",
       "    <tr>\n",
       "      <th>3</th>\n",
       "      <td>tumour</td>\n",
       "      <td>-1.432935</td>\n",
       "    </tr>\n",
       "    <tr>\n",
       "      <th>4</th>\n",
       "      <td>wire</td>\n",
       "      <td>-1.432935</td>\n",
       "    </tr>\n",
       "    <tr>\n",
       "      <th>5</th>\n",
       "      <td>meanwhile</td>\n",
       "      <td>-1.427359</td>\n",
       "    </tr>\n",
       "    <tr>\n",
       "      <th>6</th>\n",
       "      <td>prednisolone</td>\n",
       "      <td>-1.401679</td>\n",
       "    </tr>\n",
       "    <tr>\n",
       "      <th>7</th>\n",
       "      <td>manufactured</td>\n",
       "      <td>-1.395454</td>\n",
       "    </tr>\n",
       "    <tr>\n",
       "      <th>8</th>\n",
       "      <td>fasciitis</td>\n",
       "      <td>-1.389374</td>\n",
       "    </tr>\n",
       "    <tr>\n",
       "      <th>9</th>\n",
       "      <td>compressed</td>\n",
       "      <td>-1.337571</td>\n",
       "    </tr>\n",
       "  </tbody>\n",
       "</table>\n",
       "</div>"
      ],
      "text/plain": [
       "           word  diff_avg\n",
       "0         moist -2.147107\n",
       "1      consists -1.495447\n",
       "2    separation -1.481187\n",
       "3        tumour -1.432935\n",
       "4          wire -1.432935\n",
       "5     meanwhile -1.427359\n",
       "6  prednisolone -1.401679\n",
       "7  manufactured -1.395454\n",
       "8     fasciitis -1.389374\n",
       "9    compressed -1.337571"
      ]
     },
     "metadata": {},
     "output_type": "display_data"
    }
   ],
   "source": [
    "# display 10 words with largest significant average decrease\n",
    "bottom_diff_avg_terms = diff_avg_terms.sort_values('diff_avg', ascending=True)[:10]\n",
    "display('10 words with largest average decrease in rating:', bottom_diff_avg_terms)"
   ]
  },
  {
   "cell_type": "code",
   "execution_count": 263,
   "metadata": {},
   "outputs": [
    {
     "data": {
      "image/png": "[encoded data removed]",
      "text/plain": [
       "<Figure size 432x288 with 1 Axes>"
      ]
     },
     "metadata": {
      "needs_background": "light"
     },
     "output_type": "display_data"
    }
   ],
   "source": [
    "# plot distribution of significant average differences\n",
    "sns.distplot(diff_avg_terms['diff_avg'], bins=12, kde=False)\n",
    "plt.xlabel('Avg. Difference (Rating)')\n",
    "plt.ylabel('# of Words')\n",
    "plt.title('Distribution of Significant Avg. Difference of Rating by Word')\n",
    "plt.show()"
   ]
  }
 ],
 "metadata": {
  "kernelspec": {
   "display_name": "Python 3",
   "language": "python",
   "name": "python3"
  },
  "language_info": {
   "codemirror_mode": {
    "name": "ipython",
    "version": 3
   },
   "file_extension": ".py",
   "mimetype": "text/x-python",
   "name": "python",
   "nbconvert_exporter": "python",
   "pygments_lexer": "ipython3",
   "version": "3.7.4"
  }
 },
 "nbformat": 4,
 "nbformat_minor": 4
}
